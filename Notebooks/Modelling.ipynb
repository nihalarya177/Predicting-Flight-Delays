{
 "cells": [
  {
   "cell_type": "code",
   "execution_count": 4,
   "id": "legislative-theme",
   "metadata": {},
   "outputs": [],
   "source": [
    "import pandas as pd\n",
    "import numpy as np\n",
    "import matplotlib.pyplot as plt\n",
    "import seaborn as sb\n",
    "import datetime\n",
    "sb.set()"
   ]
  },
  {
   "cell_type": "code",
   "execution_count": 30,
   "id": "regional-cowboy",
   "metadata": {},
   "outputs": [],
   "source": [
    "DF = pd.read_csv('cleaned_dataset_post_EDA.csv')"
   ]
  },
  {
   "cell_type": "markdown",
   "id": "smooth-wales",
   "metadata": {},
   "source": [
    "# Machine Learning Models"
   ]
  },
  {
   "cell_type": "markdown",
   "id": "fiscal-measure",
   "metadata": {},
   "source": [
    "## Regression"
   ]
  },
  {
   "cell_type": "markdown",
   "id": "convinced-deployment",
   "metadata": {},
   "source": [
    "### Preparing the DataFrame"
   ]
  },
  {
   "cell_type": "code",
   "execution_count": 31,
   "id": "announced-pollution",
   "metadata": {},
   "outputs": [
    {
     "name": "stdout",
     "output_type": "stream",
     "text": [
      "<class 'pandas.core.frame.DataFrame'>\n",
      "Int64Index: 233772 entries, 0 to 233771\n",
      "Data columns (total 33 columns):\n",
      " #   Column             Non-Null Count   Dtype  \n",
      "---  ------             --------------   -----  \n",
      " 0   Unnamed: 0         233772 non-null  int64  \n",
      " 1   Time_Hour_TS       233772 non-null  object \n",
      " 2   Airline            233772 non-null  object \n",
      " 3   Flight_Number      233772 non-null  int64  \n",
      " 4   Tail_Number        233772 non-null  object \n",
      " 5   Departure_Time     233772 non-null  object \n",
      " 6   Departure_Delay    233772 non-null  float64\n",
      " 7   Arrival_Time       233772 non-null  object \n",
      " 8   Arrival_Delay      233772 non-null  float64\n",
      " 9   Origin             233772 non-null  object \n",
      " 10  Destination        233772 non-null  object \n",
      " 11  Flight_Distance    233772 non-null  int64  \n",
      " 12  Flight_Duration    233772 non-null  float64\n",
      " 13  Aircraft_Type      233772 non-null  object \n",
      " 14  Model              233772 non-null  object \n",
      " 15  Year_Manufactured  233772 non-null  float64\n",
      " 16  Manufacturer       233772 non-null  object \n",
      " 17  Number_of_Engines  233772 non-null  int64  \n",
      " 18  Engine_Type        233772 non-null  object \n",
      " 19  Seats              233772 non-null  int64  \n",
      " 20  Temperature        233772 non-null  float64\n",
      " 21  Humidity           233772 non-null  float64\n",
      " 22  Wind_Direction     233772 non-null  float64\n",
      " 23  Wind_Speed         233772 non-null  float64\n",
      " 24  Precipitation      233772 non-null  float64\n",
      " 25  Pressure           233772 non-null  float64\n",
      " 26  Visibility         233772 non-null  float64\n",
      " 27  Year               233772 non-null  int64  \n",
      " 28  Month              233772 non-null  int64  \n",
      " 29  Day                233772 non-null  int64  \n",
      " 30  Hour               233772 non-null  int64  \n",
      " 31  Time_Series        233772 non-null  object \n",
      " 32  Delay_Level        233772 non-null  int64  \n",
      "dtypes: float64(11), int64(10), object(12)\n",
      "memory usage: 60.6+ MB\n"
     ]
    }
   ],
   "source": [
    "DF.dropna(inplace=True)\n",
    "DF.info()"
   ]
  },
  {
   "cell_type": "code",
   "execution_count": 93,
   "id": "corrected-nature",
   "metadata": {},
   "outputs": [
    {
     "name": "stdout",
     "output_type": "stream",
     "text": [
      "<class 'pandas.core.frame.DataFrame'>\n",
      "Int64Index: 233772 entries, 0 to 233771\n",
      "Data columns (total 33 columns):\n",
      " #   Column             Non-Null Count   Dtype  \n",
      "---  ------             --------------   -----  \n",
      " 0   Unnamed: 0         233772 non-null  int64  \n",
      " 1   Time_Hour_TS       233772 non-null  object \n",
      " 2   Airline            233772 non-null  object \n",
      " 3   Flight_Number      233772 non-null  int64  \n",
      " 4   Tail_Number        233772 non-null  object \n",
      " 5   Departure_Time     233772 non-null  object \n",
      " 6   Departure_Delay    233772 non-null  float64\n",
      " 7   Arrival_Time       233772 non-null  object \n",
      " 8   Arrival_Delay      233772 non-null  float64\n",
      " 9   Origin             233772 non-null  object \n",
      " 10  Destination        233772 non-null  object \n",
      " 11  Flight_Distance    233772 non-null  int64  \n",
      " 12  Flight_Duration    233772 non-null  float64\n",
      " 13  Aircraft_Type      233772 non-null  object \n",
      " 14  Model              233772 non-null  object \n",
      " 15  Year_Manufactured  233772 non-null  float64\n",
      " 16  Manufacturer       233772 non-null  object \n",
      " 17  Number_of_Engines  233772 non-null  int64  \n",
      " 18  Engine_Type        233772 non-null  object \n",
      " 19  Seats              233772 non-null  int64  \n",
      " 20  Temperature        233772 non-null  float64\n",
      " 21  Humidity           233772 non-null  float64\n",
      " 22  Wind_Direction     233772 non-null  float64\n",
      " 23  Wind_Speed         233772 non-null  float64\n",
      " 24  Precipitation      233772 non-null  float64\n",
      " 25  Pressure           233772 non-null  float64\n",
      " 26  Visibility         233772 non-null  float64\n",
      " 27  Year               233772 non-null  int64  \n",
      " 28  Month              233772 non-null  int64  \n",
      " 29  Day                233772 non-null  int64  \n",
      " 30  Hour               233772 non-null  int64  \n",
      " 31  Time_Series        233772 non-null  object \n",
      " 32  Delay_Level        233772 non-null  int64  \n",
      "dtypes: float64(11), int64(10), object(12)\n",
      "memory usage: 68.7+ MB\n"
     ]
    }
   ],
   "source": [
    "DF_clean = DF\n",
    "DF_clean.info()"
   ]
  },
  {
   "cell_type": "markdown",
   "id": "modified-fruit",
   "metadata": {},
   "source": [
    "Since our dataset contains negative Departure Delays (The flight departed before its scheduled departure) and more than half the dataset has Departure Delay = 0 we decided to use only the points which have Departure Delay > 0 for a better fit on our reggresion models"
   ]
  },
  {
   "cell_type": "code",
   "execution_count": 94,
   "id": "theoretical-kernel",
   "metadata": {},
   "outputs": [
    {
     "name": "stdout",
     "output_type": "stream",
     "text": [
      "<class 'pandas.core.frame.DataFrame'>\n",
      "RangeIndex: 233772 entries, 0 to 233771\n",
      "Data columns (total 21 columns):\n",
      " #   Column                                      Non-Null Count   Dtype  \n",
      "---  ------                                      --------------   -----  \n",
      " 0   Airline_AirTran Airways Corporation         233772 non-null  float64\n",
      " 1   Airline_American Airlines Inc.              233772 non-null  float64\n",
      " 2   Airline_Delta Air Lines Inc.                233772 non-null  float64\n",
      " 3   Airline_Endeavor Air Inc.                   233772 non-null  float64\n",
      " 4   Airline_ExpressJet Airlines Inc.            233772 non-null  float64\n",
      " 5   Airline_JetBlue Airways                     233772 non-null  float64\n",
      " 6   Airline_Southwest Airlines Co.              233772 non-null  float64\n",
      " 7   Airline_US Airways Inc.                     233772 non-null  float64\n",
      " 8   Airline_United Air Lines Inc.               233772 non-null  float64\n",
      " 9   Airline_Virgin America                      233772 non-null  float64\n",
      " 10  Manufacturer_AIRBUS INDUSTRIE               233772 non-null  float64\n",
      " 11  Manufacturer_BOEING                         233772 non-null  float64\n",
      " 12  Manufacturer_BOMBARDIER INC                 233772 non-null  float64\n",
      " 13  Manufacturer_CANADAIR                       233772 non-null  float64\n",
      " 14  Manufacturer_EMBRAER                        233772 non-null  float64\n",
      " 15  Manufacturer_MCDONNELL DOUGLAS CORPORATION  233772 non-null  float64\n",
      " 16  Origin_EWR                                  233772 non-null  float64\n",
      " 17  Origin_JFK                                  233772 non-null  float64\n",
      " 18  Origin_LGA                                  233772 non-null  float64\n",
      " 19  Engine_Type_Turbo-fan                       233772 non-null  float64\n",
      " 20  Engine_Type_Turbo-jet                       233772 non-null  float64\n",
      "dtypes: float64(21)\n",
      "memory usage: 37.5 MB\n"
     ]
    },
    {
     "name": "stderr",
     "output_type": "stream",
     "text": [
      "/home/NIHALARY001/CZ1016/base/lib/python3.8/site-packages/sklearn/utils/deprecation.py:87: FutureWarning: Function get_feature_names is deprecated; get_feature_names is deprecated in 1.0 and will be removed in 1.2. Please use get_feature_names_out instead.\n",
      "  warnings.warn(msg, category=FutureWarning)\n"
     ]
    }
   ],
   "source": [
    "from sklearn.preprocessing import OneHotEncoder\n",
    "enc = OneHotEncoder()\n",
    "\n",
    "catvars = DF_clean[['Airline','Manufacturer','Origin','Engine_Type']]\n",
    "enc.fit(catvars)\n",
    "catvars_enc = pd.DataFrame(enc.transform(catvars).toarray(), \n",
    "columns=enc.get_feature_names(catvars.columns))\n",
    "\n",
    "catvars_enc.info()"
   ]
  },
  {
   "cell_type": "markdown",
   "id": "hybrid-austin",
   "metadata": {},
   "source": [
    "OneHotEncoding all the categorical variables so that they can be passed into our models"
   ]
  },
  {
   "cell_type": "code",
   "execution_count": 95,
   "id": "unnecessary-stereo",
   "metadata": {},
   "outputs": [
    {
     "data": {
      "text/html": [
       "<div>\n",
       "<style scoped>\n",
       "    .dataframe tbody tr th:only-of-type {\n",
       "        vertical-align: middle;\n",
       "    }\n",
       "\n",
       "    .dataframe tbody tr th {\n",
       "        vertical-align: top;\n",
       "    }\n",
       "\n",
       "    .dataframe thead th {\n",
       "        text-align: right;\n",
       "    }\n",
       "</style>\n",
       "<table border=\"1\" class=\"dataframe\">\n",
       "  <thead>\n",
       "    <tr style=\"text-align: right;\">\n",
       "      <th></th>\n",
       "      <th>Airline_AirTran Airways Corporation</th>\n",
       "      <th>Airline_American Airlines Inc.</th>\n",
       "      <th>Airline_Delta Air Lines Inc.</th>\n",
       "      <th>Airline_Endeavor Air Inc.</th>\n",
       "      <th>Airline_ExpressJet Airlines Inc.</th>\n",
       "      <th>Airline_JetBlue Airways</th>\n",
       "      <th>Airline_Southwest Airlines Co.</th>\n",
       "      <th>Airline_US Airways Inc.</th>\n",
       "      <th>Airline_United Air Lines Inc.</th>\n",
       "      <th>Airline_Virgin America</th>\n",
       "      <th>...</th>\n",
       "      <th>Manufacturer_BOEING</th>\n",
       "      <th>Manufacturer_BOMBARDIER INC</th>\n",
       "      <th>Manufacturer_CANADAIR</th>\n",
       "      <th>Manufacturer_EMBRAER</th>\n",
       "      <th>Manufacturer_MCDONNELL DOUGLAS CORPORATION</th>\n",
       "      <th>Origin_EWR</th>\n",
       "      <th>Origin_JFK</th>\n",
       "      <th>Origin_LGA</th>\n",
       "      <th>Engine_Type_Turbo-fan</th>\n",
       "      <th>Engine_Type_Turbo-jet</th>\n",
       "    </tr>\n",
       "  </thead>\n",
       "  <tbody>\n",
       "    <tr>\n",
       "      <th>0</th>\n",
       "      <td>0.0</td>\n",
       "      <td>0.0</td>\n",
       "      <td>0.0</td>\n",
       "      <td>0.0</td>\n",
       "      <td>0.0</td>\n",
       "      <td>0.0</td>\n",
       "      <td>0.0</td>\n",
       "      <td>0.0</td>\n",
       "      <td>1.0</td>\n",
       "      <td>0.0</td>\n",
       "      <td>...</td>\n",
       "      <td>1.0</td>\n",
       "      <td>0.0</td>\n",
       "      <td>0.0</td>\n",
       "      <td>0.0</td>\n",
       "      <td>0.0</td>\n",
       "      <td>1.0</td>\n",
       "      <td>0.0</td>\n",
       "      <td>0.0</td>\n",
       "      <td>1.0</td>\n",
       "      <td>0.0</td>\n",
       "    </tr>\n",
       "    <tr>\n",
       "      <th>1</th>\n",
       "      <td>0.0</td>\n",
       "      <td>1.0</td>\n",
       "      <td>0.0</td>\n",
       "      <td>0.0</td>\n",
       "      <td>0.0</td>\n",
       "      <td>0.0</td>\n",
       "      <td>0.0</td>\n",
       "      <td>0.0</td>\n",
       "      <td>0.0</td>\n",
       "      <td>0.0</td>\n",
       "      <td>...</td>\n",
       "      <td>1.0</td>\n",
       "      <td>0.0</td>\n",
       "      <td>0.0</td>\n",
       "      <td>0.0</td>\n",
       "      <td>0.0</td>\n",
       "      <td>0.0</td>\n",
       "      <td>1.0</td>\n",
       "      <td>0.0</td>\n",
       "      <td>1.0</td>\n",
       "      <td>0.0</td>\n",
       "    </tr>\n",
       "    <tr>\n",
       "      <th>2</th>\n",
       "      <td>0.0</td>\n",
       "      <td>0.0</td>\n",
       "      <td>0.0</td>\n",
       "      <td>0.0</td>\n",
       "      <td>0.0</td>\n",
       "      <td>1.0</td>\n",
       "      <td>0.0</td>\n",
       "      <td>0.0</td>\n",
       "      <td>0.0</td>\n",
       "      <td>0.0</td>\n",
       "      <td>...</td>\n",
       "      <td>0.0</td>\n",
       "      <td>0.0</td>\n",
       "      <td>0.0</td>\n",
       "      <td>0.0</td>\n",
       "      <td>0.0</td>\n",
       "      <td>0.0</td>\n",
       "      <td>1.0</td>\n",
       "      <td>0.0</td>\n",
       "      <td>1.0</td>\n",
       "      <td>0.0</td>\n",
       "    </tr>\n",
       "    <tr>\n",
       "      <th>3</th>\n",
       "      <td>0.0</td>\n",
       "      <td>0.0</td>\n",
       "      <td>0.0</td>\n",
       "      <td>0.0</td>\n",
       "      <td>0.0</td>\n",
       "      <td>1.0</td>\n",
       "      <td>0.0</td>\n",
       "      <td>0.0</td>\n",
       "      <td>0.0</td>\n",
       "      <td>0.0</td>\n",
       "      <td>...</td>\n",
       "      <td>0.0</td>\n",
       "      <td>0.0</td>\n",
       "      <td>0.0</td>\n",
       "      <td>0.0</td>\n",
       "      <td>0.0</td>\n",
       "      <td>0.0</td>\n",
       "      <td>1.0</td>\n",
       "      <td>0.0</td>\n",
       "      <td>1.0</td>\n",
       "      <td>0.0</td>\n",
       "    </tr>\n",
       "    <tr>\n",
       "      <th>4</th>\n",
       "      <td>0.0</td>\n",
       "      <td>0.0</td>\n",
       "      <td>0.0</td>\n",
       "      <td>0.0</td>\n",
       "      <td>0.0</td>\n",
       "      <td>0.0</td>\n",
       "      <td>0.0</td>\n",
       "      <td>0.0</td>\n",
       "      <td>1.0</td>\n",
       "      <td>0.0</td>\n",
       "      <td>...</td>\n",
       "      <td>1.0</td>\n",
       "      <td>0.0</td>\n",
       "      <td>0.0</td>\n",
       "      <td>0.0</td>\n",
       "      <td>0.0</td>\n",
       "      <td>0.0</td>\n",
       "      <td>0.0</td>\n",
       "      <td>1.0</td>\n",
       "      <td>1.0</td>\n",
       "      <td>0.0</td>\n",
       "    </tr>\n",
       "  </tbody>\n",
       "</table>\n",
       "<p>5 rows × 21 columns</p>\n",
       "</div>"
      ],
      "text/plain": [
       "   Airline_AirTran Airways Corporation  Airline_American Airlines Inc.  \\\n",
       "0                                  0.0                             0.0   \n",
       "1                                  0.0                             1.0   \n",
       "2                                  0.0                             0.0   \n",
       "3                                  0.0                             0.0   \n",
       "4                                  0.0                             0.0   \n",
       "\n",
       "   Airline_Delta Air Lines Inc.  Airline_Endeavor Air Inc.  \\\n",
       "0                           0.0                        0.0   \n",
       "1                           0.0                        0.0   \n",
       "2                           0.0                        0.0   \n",
       "3                           0.0                        0.0   \n",
       "4                           0.0                        0.0   \n",
       "\n",
       "   Airline_ExpressJet Airlines Inc.  Airline_JetBlue Airways  \\\n",
       "0                               0.0                      0.0   \n",
       "1                               0.0                      0.0   \n",
       "2                               0.0                      1.0   \n",
       "3                               0.0                      1.0   \n",
       "4                               0.0                      0.0   \n",
       "\n",
       "   Airline_Southwest Airlines Co.  Airline_US Airways Inc.  \\\n",
       "0                             0.0                      0.0   \n",
       "1                             0.0                      0.0   \n",
       "2                             0.0                      0.0   \n",
       "3                             0.0                      0.0   \n",
       "4                             0.0                      0.0   \n",
       "\n",
       "   Airline_United Air Lines Inc.  Airline_Virgin America  ...  \\\n",
       "0                            1.0                     0.0  ...   \n",
       "1                            0.0                     0.0  ...   \n",
       "2                            0.0                     0.0  ...   \n",
       "3                            0.0                     0.0  ...   \n",
       "4                            1.0                     0.0  ...   \n",
       "\n",
       "   Manufacturer_BOEING  Manufacturer_BOMBARDIER INC  Manufacturer_CANADAIR  \\\n",
       "0                  1.0                          0.0                    0.0   \n",
       "1                  1.0                          0.0                    0.0   \n",
       "2                  0.0                          0.0                    0.0   \n",
       "3                  0.0                          0.0                    0.0   \n",
       "4                  1.0                          0.0                    0.0   \n",
       "\n",
       "   Manufacturer_EMBRAER  Manufacturer_MCDONNELL DOUGLAS CORPORATION  \\\n",
       "0                   0.0                                         0.0   \n",
       "1                   0.0                                         0.0   \n",
       "2                   0.0                                         0.0   \n",
       "3                   0.0                                         0.0   \n",
       "4                   0.0                                         0.0   \n",
       "\n",
       "   Origin_EWR  Origin_JFK  Origin_LGA  Engine_Type_Turbo-fan  \\\n",
       "0         1.0         0.0         0.0                    1.0   \n",
       "1         0.0         1.0         0.0                    1.0   \n",
       "2         0.0         1.0         0.0                    1.0   \n",
       "3         0.0         1.0         0.0                    1.0   \n",
       "4         0.0         0.0         1.0                    1.0   \n",
       "\n",
       "   Engine_Type_Turbo-jet  \n",
       "0                    0.0  \n",
       "1                    0.0  \n",
       "2                    0.0  \n",
       "3                    0.0  \n",
       "4                    0.0  \n",
       "\n",
       "[5 rows x 21 columns]"
      ]
     },
     "execution_count": 95,
     "metadata": {},
     "output_type": "execute_result"
    }
   ],
   "source": [
    "catvars_enc.head()"
   ]
  },
  {
   "cell_type": "code",
   "execution_count": 96,
   "id": "victorian-transfer",
   "metadata": {},
   "outputs": [
    {
     "name": "stdout",
     "output_type": "stream",
     "text": [
      "<class 'pandas.core.frame.DataFrame'>\n",
      "Int64Index: 233772 entries, 0 to 233771\n",
      "Data columns (total 9 columns):\n",
      " #   Column         Non-Null Count   Dtype  \n",
      "---  ------         --------------   -----  \n",
      " 0   Temperature    233772 non-null  float64\n",
      " 1   Humidity       233772 non-null  float64\n",
      " 2   Pressure       233772 non-null  float64\n",
      " 3   Wind_Speed     233772 non-null  float64\n",
      " 4   Precipitation  233772 non-null  float64\n",
      " 5   Day            233772 non-null  int64  \n",
      " 6   Hour           233772 non-null  int64  \n",
      " 7   Visibility     233772 non-null  float64\n",
      " 8   Seats          233772 non-null  int64  \n",
      "dtypes: float64(6), int64(3)\n",
      "memory usage: 25.9 MB\n"
     ]
    }
   ],
   "source": [
    "numvar = pd.DataFrame(DF_clean[[\"Temperature\",\"Humidity\",'Pressure','Wind_Speed','Precipitation','Day','Hour','Visibility','Seats']])\n",
    "numvar.info()"
   ]
  },
  {
   "cell_type": "code",
   "execution_count": 97,
   "id": "raised-farming",
   "metadata": {},
   "outputs": [
    {
     "name": "stdout",
     "output_type": "stream",
     "text": [
      "<class 'pandas.core.frame.DataFrame'>\n",
      "RangeIndex: 233772 entries, 0 to 233771\n",
      "Data columns (total 10 columns):\n",
      " #   Column         Non-Null Count   Dtype  \n",
      "---  ------         --------------   -----  \n",
      " 0   index          233772 non-null  int64  \n",
      " 1   Temperature    233772 non-null  float64\n",
      " 2   Humidity       233772 non-null  float64\n",
      " 3   Pressure       233772 non-null  float64\n",
      " 4   Wind_Speed     233772 non-null  float64\n",
      " 5   Precipitation  233772 non-null  float64\n",
      " 6   Day            233772 non-null  int64  \n",
      " 7   Hour           233772 non-null  int64  \n",
      " 8   Visibility     233772 non-null  float64\n",
      " 9   Seats          233772 non-null  int64  \n",
      "dtypes: float64(6), int64(4)\n",
      "memory usage: 17.8 MB\n"
     ]
    }
   ],
   "source": [
    "numvar = numvar.reset_index()\n",
    "numvar.info()"
   ]
  },
  {
   "cell_type": "code",
   "execution_count": 98,
   "id": "gentle-loading",
   "metadata": {},
   "outputs": [],
   "source": [
    "X = pd.concat([numvar,catvars_enc], axis = 1).reindex(numvar.index)\n",
    "Y = DF_clean[['Departure_Delay']]"
   ]
  },
  {
   "cell_type": "markdown",
   "id": "quiet-probe",
   "metadata": {},
   "source": [
    "Setting our Predictor variables and Response variables"
   ]
  },
  {
   "cell_type": "code",
   "execution_count": 99,
   "id": "french-subject",
   "metadata": {},
   "outputs": [],
   "source": [
    "Y = Y.reset_index()"
   ]
  },
  {
   "cell_type": "code",
   "execution_count": 100,
   "id": "contained-carnival",
   "metadata": {},
   "outputs": [
    {
     "name": "stdout",
     "output_type": "stream",
     "text": [
      "<class 'pandas.core.frame.DataFrame'>\n",
      "RangeIndex: 233772 entries, 0 to 233771\n",
      "Data columns (total 2 columns):\n",
      " #   Column           Non-Null Count   Dtype  \n",
      "---  ------           --------------   -----  \n",
      " 0   index            233772 non-null  int64  \n",
      " 1   Departure_Delay  233772 non-null  float64\n",
      "dtypes: float64(1), int64(1)\n",
      "memory usage: 3.6 MB\n"
     ]
    },
    {
     "data": {
      "text/html": [
       "<div>\n",
       "<style scoped>\n",
       "    .dataframe tbody tr th:only-of-type {\n",
       "        vertical-align: middle;\n",
       "    }\n",
       "\n",
       "    .dataframe tbody tr th {\n",
       "        vertical-align: top;\n",
       "    }\n",
       "\n",
       "    .dataframe thead th {\n",
       "        text-align: right;\n",
       "    }\n",
       "</style>\n",
       "<table border=\"1\" class=\"dataframe\">\n",
       "  <thead>\n",
       "    <tr style=\"text-align: right;\">\n",
       "      <th></th>\n",
       "      <th>Departure_Delay</th>\n",
       "    </tr>\n",
       "  </thead>\n",
       "  <tbody>\n",
       "    <tr>\n",
       "      <th>0</th>\n",
       "      <td>2.0</td>\n",
       "    </tr>\n",
       "    <tr>\n",
       "      <th>1</th>\n",
       "      <td>2.0</td>\n",
       "    </tr>\n",
       "    <tr>\n",
       "      <th>2</th>\n",
       "      <td>-1.0</td>\n",
       "    </tr>\n",
       "    <tr>\n",
       "      <th>3</th>\n",
       "      <td>0.0</td>\n",
       "    </tr>\n",
       "    <tr>\n",
       "      <th>4</th>\n",
       "      <td>4.0</td>\n",
       "    </tr>\n",
       "  </tbody>\n",
       "</table>\n",
       "</div>"
      ],
      "text/plain": [
       "   Departure_Delay\n",
       "0              2.0\n",
       "1              2.0\n",
       "2             -1.0\n",
       "3              0.0\n",
       "4              4.0"
      ]
     },
     "execution_count": 100,
     "metadata": {},
     "output_type": "execute_result"
    }
   ],
   "source": [
    "Y.info()\n",
    "Y.drop(['index'], axis=1, inplace=True)\n",
    "Y.head()"
   ]
  },
  {
   "cell_type": "code",
   "execution_count": 101,
   "id": "violent-section",
   "metadata": {},
   "outputs": [
    {
     "name": "stdout",
     "output_type": "stream",
     "text": [
      "<class 'pandas.core.frame.DataFrame'>\n",
      "RangeIndex: 233772 entries, 0 to 233771\n",
      "Data columns (total 31 columns):\n",
      " #   Column                                      Non-Null Count   Dtype  \n",
      "---  ------                                      --------------   -----  \n",
      " 0   index                                       233772 non-null  int64  \n",
      " 1   Temperature                                 233772 non-null  float64\n",
      " 2   Humidity                                    233772 non-null  float64\n",
      " 3   Pressure                                    233772 non-null  float64\n",
      " 4   Wind_Speed                                  233772 non-null  float64\n",
      " 5   Precipitation                               233772 non-null  float64\n",
      " 6   Day                                         233772 non-null  int64  \n",
      " 7   Hour                                        233772 non-null  int64  \n",
      " 8   Visibility                                  233772 non-null  float64\n",
      " 9   Seats                                       233772 non-null  int64  \n",
      " 10  Airline_AirTran Airways Corporation         233772 non-null  float64\n",
      " 11  Airline_American Airlines Inc.              233772 non-null  float64\n",
      " 12  Airline_Delta Air Lines Inc.                233772 non-null  float64\n",
      " 13  Airline_Endeavor Air Inc.                   233772 non-null  float64\n",
      " 14  Airline_ExpressJet Airlines Inc.            233772 non-null  float64\n",
      " 15  Airline_JetBlue Airways                     233772 non-null  float64\n",
      " 16  Airline_Southwest Airlines Co.              233772 non-null  float64\n",
      " 17  Airline_US Airways Inc.                     233772 non-null  float64\n",
      " 18  Airline_United Air Lines Inc.               233772 non-null  float64\n",
      " 19  Airline_Virgin America                      233772 non-null  float64\n",
      " 20  Manufacturer_AIRBUS INDUSTRIE               233772 non-null  float64\n",
      " 21  Manufacturer_BOEING                         233772 non-null  float64\n",
      " 22  Manufacturer_BOMBARDIER INC                 233772 non-null  float64\n",
      " 23  Manufacturer_CANADAIR                       233772 non-null  float64\n",
      " 24  Manufacturer_EMBRAER                        233772 non-null  float64\n",
      " 25  Manufacturer_MCDONNELL DOUGLAS CORPORATION  233772 non-null  float64\n",
      " 26  Origin_EWR                                  233772 non-null  float64\n",
      " 27  Origin_JFK                                  233772 non-null  float64\n",
      " 28  Origin_LGA                                  233772 non-null  float64\n",
      " 29  Engine_Type_Turbo-fan                       233772 non-null  float64\n",
      " 30  Engine_Type_Turbo-jet                       233772 non-null  float64\n",
      "dtypes: float64(27), int64(4)\n",
      "memory usage: 55.3 MB\n"
     ]
    },
    {
     "data": {
      "text/html": [
       "<div>\n",
       "<style scoped>\n",
       "    .dataframe tbody tr th:only-of-type {\n",
       "        vertical-align: middle;\n",
       "    }\n",
       "\n",
       "    .dataframe tbody tr th {\n",
       "        vertical-align: top;\n",
       "    }\n",
       "\n",
       "    .dataframe thead th {\n",
       "        text-align: right;\n",
       "    }\n",
       "</style>\n",
       "<table border=\"1\" class=\"dataframe\">\n",
       "  <thead>\n",
       "    <tr style=\"text-align: right;\">\n",
       "      <th></th>\n",
       "      <th>Temperature</th>\n",
       "      <th>Humidity</th>\n",
       "      <th>Pressure</th>\n",
       "      <th>Wind_Speed</th>\n",
       "      <th>Precipitation</th>\n",
       "      <th>Day</th>\n",
       "      <th>Hour</th>\n",
       "      <th>Visibility</th>\n",
       "      <th>Seats</th>\n",
       "      <th>Airline_AirTran Airways Corporation</th>\n",
       "      <th>...</th>\n",
       "      <th>Manufacturer_BOEING</th>\n",
       "      <th>Manufacturer_BOMBARDIER INC</th>\n",
       "      <th>Manufacturer_CANADAIR</th>\n",
       "      <th>Manufacturer_EMBRAER</th>\n",
       "      <th>Manufacturer_MCDONNELL DOUGLAS CORPORATION</th>\n",
       "      <th>Origin_EWR</th>\n",
       "      <th>Origin_JFK</th>\n",
       "      <th>Origin_LGA</th>\n",
       "      <th>Engine_Type_Turbo-fan</th>\n",
       "      <th>Engine_Type_Turbo-jet</th>\n",
       "    </tr>\n",
       "  </thead>\n",
       "  <tbody>\n",
       "    <tr>\n",
       "      <th>0</th>\n",
       "      <td>39.02</td>\n",
       "      <td>64.43</td>\n",
       "      <td>1011.9</td>\n",
       "      <td>12.65858</td>\n",
       "      <td>0.0</td>\n",
       "      <td>1</td>\n",
       "      <td>5</td>\n",
       "      <td>10.0</td>\n",
       "      <td>149</td>\n",
       "      <td>0.0</td>\n",
       "      <td>...</td>\n",
       "      <td>1.0</td>\n",
       "      <td>0.0</td>\n",
       "      <td>0.0</td>\n",
       "      <td>0.0</td>\n",
       "      <td>0.0</td>\n",
       "      <td>1.0</td>\n",
       "      <td>0.0</td>\n",
       "      <td>0.0</td>\n",
       "      <td>1.0</td>\n",
       "      <td>0.0</td>\n",
       "    </tr>\n",
       "    <tr>\n",
       "      <th>1</th>\n",
       "      <td>39.02</td>\n",
       "      <td>61.63</td>\n",
       "      <td>1012.1</td>\n",
       "      <td>14.96014</td>\n",
       "      <td>0.0</td>\n",
       "      <td>1</td>\n",
       "      <td>5</td>\n",
       "      <td>10.0</td>\n",
       "      <td>178</td>\n",
       "      <td>0.0</td>\n",
       "      <td>...</td>\n",
       "      <td>1.0</td>\n",
       "      <td>0.0</td>\n",
       "      <td>0.0</td>\n",
       "      <td>0.0</td>\n",
       "      <td>0.0</td>\n",
       "      <td>0.0</td>\n",
       "      <td>1.0</td>\n",
       "      <td>0.0</td>\n",
       "      <td>1.0</td>\n",
       "      <td>0.0</td>\n",
       "    </tr>\n",
       "    <tr>\n",
       "      <th>2</th>\n",
       "      <td>39.02</td>\n",
       "      <td>61.63</td>\n",
       "      <td>1012.1</td>\n",
       "      <td>14.96014</td>\n",
       "      <td>0.0</td>\n",
       "      <td>1</td>\n",
       "      <td>5</td>\n",
       "      <td>10.0</td>\n",
       "      <td>200</td>\n",
       "      <td>0.0</td>\n",
       "      <td>...</td>\n",
       "      <td>0.0</td>\n",
       "      <td>0.0</td>\n",
       "      <td>0.0</td>\n",
       "      <td>0.0</td>\n",
       "      <td>0.0</td>\n",
       "      <td>0.0</td>\n",
       "      <td>1.0</td>\n",
       "      <td>0.0</td>\n",
       "      <td>1.0</td>\n",
       "      <td>0.0</td>\n",
       "    </tr>\n",
       "    <tr>\n",
       "      <th>3</th>\n",
       "      <td>39.02</td>\n",
       "      <td>61.63</td>\n",
       "      <td>1012.1</td>\n",
       "      <td>14.96014</td>\n",
       "      <td>0.0</td>\n",
       "      <td>1</td>\n",
       "      <td>5</td>\n",
       "      <td>10.0</td>\n",
       "      <td>200</td>\n",
       "      <td>0.0</td>\n",
       "      <td>...</td>\n",
       "      <td>0.0</td>\n",
       "      <td>0.0</td>\n",
       "      <td>0.0</td>\n",
       "      <td>0.0</td>\n",
       "      <td>0.0</td>\n",
       "      <td>0.0</td>\n",
       "      <td>1.0</td>\n",
       "      <td>0.0</td>\n",
       "      <td>1.0</td>\n",
       "      <td>0.0</td>\n",
       "    </tr>\n",
       "    <tr>\n",
       "      <th>4</th>\n",
       "      <td>39.92</td>\n",
       "      <td>54.81</td>\n",
       "      <td>1011.4</td>\n",
       "      <td>14.96014</td>\n",
       "      <td>0.0</td>\n",
       "      <td>1</td>\n",
       "      <td>5</td>\n",
       "      <td>10.0</td>\n",
       "      <td>149</td>\n",
       "      <td>0.0</td>\n",
       "      <td>...</td>\n",
       "      <td>1.0</td>\n",
       "      <td>0.0</td>\n",
       "      <td>0.0</td>\n",
       "      <td>0.0</td>\n",
       "      <td>0.0</td>\n",
       "      <td>0.0</td>\n",
       "      <td>0.0</td>\n",
       "      <td>1.0</td>\n",
       "      <td>1.0</td>\n",
       "      <td>0.0</td>\n",
       "    </tr>\n",
       "  </tbody>\n",
       "</table>\n",
       "<p>5 rows × 30 columns</p>\n",
       "</div>"
      ],
      "text/plain": [
       "   Temperature  Humidity  Pressure  Wind_Speed  Precipitation  Day  Hour  \\\n",
       "0        39.02     64.43    1011.9    12.65858            0.0    1     5   \n",
       "1        39.02     61.63    1012.1    14.96014            0.0    1     5   \n",
       "2        39.02     61.63    1012.1    14.96014            0.0    1     5   \n",
       "3        39.02     61.63    1012.1    14.96014            0.0    1     5   \n",
       "4        39.92     54.81    1011.4    14.96014            0.0    1     5   \n",
       "\n",
       "   Visibility  Seats  Airline_AirTran Airways Corporation  ...  \\\n",
       "0        10.0    149                                  0.0  ...   \n",
       "1        10.0    178                                  0.0  ...   \n",
       "2        10.0    200                                  0.0  ...   \n",
       "3        10.0    200                                  0.0  ...   \n",
       "4        10.0    149                                  0.0  ...   \n",
       "\n",
       "   Manufacturer_BOEING  Manufacturer_BOMBARDIER INC  Manufacturer_CANADAIR  \\\n",
       "0                  1.0                          0.0                    0.0   \n",
       "1                  1.0                          0.0                    0.0   \n",
       "2                  0.0                          0.0                    0.0   \n",
       "3                  0.0                          0.0                    0.0   \n",
       "4                  1.0                          0.0                    0.0   \n",
       "\n",
       "   Manufacturer_EMBRAER  Manufacturer_MCDONNELL DOUGLAS CORPORATION  \\\n",
       "0                   0.0                                         0.0   \n",
       "1                   0.0                                         0.0   \n",
       "2                   0.0                                         0.0   \n",
       "3                   0.0                                         0.0   \n",
       "4                   0.0                                         0.0   \n",
       "\n",
       "   Origin_EWR  Origin_JFK  Origin_LGA  Engine_Type_Turbo-fan  \\\n",
       "0         1.0         0.0         0.0                    1.0   \n",
       "1         0.0         1.0         0.0                    1.0   \n",
       "2         0.0         1.0         0.0                    1.0   \n",
       "3         0.0         1.0         0.0                    1.0   \n",
       "4         0.0         0.0         1.0                    1.0   \n",
       "\n",
       "   Engine_Type_Turbo-jet  \n",
       "0                    0.0  \n",
       "1                    0.0  \n",
       "2                    0.0  \n",
       "3                    0.0  \n",
       "4                    0.0  \n",
       "\n",
       "[5 rows x 30 columns]"
      ]
     },
     "execution_count": 101,
     "metadata": {},
     "output_type": "execute_result"
    }
   ],
   "source": [
    "X.info()\n",
    "X.drop(['index'], axis=1, inplace=True)\n",
    "X.head()"
   ]
  },
  {
   "cell_type": "markdown",
   "id": "demanding-stake",
   "metadata": {},
   "source": [
    "### Linear Regression"
   ]
  },
  {
   "cell_type": "code",
   "execution_count": 102,
   "id": "extraordinary-perspective",
   "metadata": {},
   "outputs": [
    {
     "name": "stdout",
     "output_type": "stream",
     "text": [
      "Train Set : (175329, 1) (175329, 30)\n",
      "Test Set  : (58443, 1) (58443, 30)\n"
     ]
    }
   ],
   "source": [
    "from sklearn.model_selection import train_test_split\n",
    "\n",
    "X_train, X_test, Y_train, Y_test = train_test_split(X, Y, test_size = 0.25,random_state=200)\n",
    "\n",
    "print(\"Train Set :\", Y_train.shape, X_train.shape)\n",
    "print(\"Test Set  :\", Y_test.shape, X_test.shape)"
   ]
  },
  {
   "cell_type": "code",
   "execution_count": 103,
   "id": "negative-benefit",
   "metadata": {},
   "outputs": [
    {
     "data": {
      "text/html": [
       "<style>#sk-container-id-4 {color: black;background-color: white;}#sk-container-id-4 pre{padding: 0;}#sk-container-id-4 div.sk-toggleable {background-color: white;}#sk-container-id-4 label.sk-toggleable__label {cursor: pointer;display: block;width: 100%;margin-bottom: 0;padding: 0.3em;box-sizing: border-box;text-align: center;}#sk-container-id-4 label.sk-toggleable__label-arrow:before {content: \"▸\";float: left;margin-right: 0.25em;color: #696969;}#sk-container-id-4 label.sk-toggleable__label-arrow:hover:before {color: black;}#sk-container-id-4 div.sk-estimator:hover label.sk-toggleable__label-arrow:before {color: black;}#sk-container-id-4 div.sk-toggleable__content {max-height: 0;max-width: 0;overflow: hidden;text-align: left;background-color: #f0f8ff;}#sk-container-id-4 div.sk-toggleable__content pre {margin: 0.2em;color: black;border-radius: 0.25em;background-color: #f0f8ff;}#sk-container-id-4 input.sk-toggleable__control:checked~div.sk-toggleable__content {max-height: 200px;max-width: 100%;overflow: auto;}#sk-container-id-4 input.sk-toggleable__control:checked~label.sk-toggleable__label-arrow:before {content: \"▾\";}#sk-container-id-4 div.sk-estimator input.sk-toggleable__control:checked~label.sk-toggleable__label {background-color: #d4ebff;}#sk-container-id-4 div.sk-label input.sk-toggleable__control:checked~label.sk-toggleable__label {background-color: #d4ebff;}#sk-container-id-4 input.sk-hidden--visually {border: 0;clip: rect(1px 1px 1px 1px);clip: rect(1px, 1px, 1px, 1px);height: 1px;margin: -1px;overflow: hidden;padding: 0;position: absolute;width: 1px;}#sk-container-id-4 div.sk-estimator {font-family: monospace;background-color: #f0f8ff;border: 1px dotted black;border-radius: 0.25em;box-sizing: border-box;margin-bottom: 0.5em;}#sk-container-id-4 div.sk-estimator:hover {background-color: #d4ebff;}#sk-container-id-4 div.sk-parallel-item::after {content: \"\";width: 100%;border-bottom: 1px solid gray;flex-grow: 1;}#sk-container-id-4 div.sk-label:hover label.sk-toggleable__label {background-color: #d4ebff;}#sk-container-id-4 div.sk-serial::before {content: \"\";position: absolute;border-left: 1px solid gray;box-sizing: border-box;top: 0;bottom: 0;left: 50%;z-index: 0;}#sk-container-id-4 div.sk-serial {display: flex;flex-direction: column;align-items: center;background-color: white;padding-right: 0.2em;padding-left: 0.2em;position: relative;}#sk-container-id-4 div.sk-item {position: relative;z-index: 1;}#sk-container-id-4 div.sk-parallel {display: flex;align-items: stretch;justify-content: center;background-color: white;position: relative;}#sk-container-id-4 div.sk-item::before, #sk-container-id-4 div.sk-parallel-item::before {content: \"\";position: absolute;border-left: 1px solid gray;box-sizing: border-box;top: 0;bottom: 0;left: 50%;z-index: -1;}#sk-container-id-4 div.sk-parallel-item {display: flex;flex-direction: column;z-index: 1;position: relative;background-color: white;}#sk-container-id-4 div.sk-parallel-item:first-child::after {align-self: flex-end;width: 50%;}#sk-container-id-4 div.sk-parallel-item:last-child::after {align-self: flex-start;width: 50%;}#sk-container-id-4 div.sk-parallel-item:only-child::after {width: 0;}#sk-container-id-4 div.sk-dashed-wrapped {border: 1px dashed gray;margin: 0 0.4em 0.5em 0.4em;box-sizing: border-box;padding-bottom: 0.4em;background-color: white;}#sk-container-id-4 div.sk-label label {font-family: monospace;font-weight: bold;display: inline-block;line-height: 1.2em;}#sk-container-id-4 div.sk-label-container {text-align: center;}#sk-container-id-4 div.sk-container {/* jupyter's `normalize.less` sets `[hidden] { display: none; }` but bootstrap.min.css set `[hidden] { display: none !important; }` so we also need the `!important` here to be able to override the default hidden behavior on the sphinx rendered scikit-learn.org. See: https://github.com/scikit-learn/scikit-learn/issues/21755 */display: inline-block !important;position: relative;}#sk-container-id-4 div.sk-text-repr-fallback {display: none;}</style><div id=\"sk-container-id-4\" class=\"sk-top-container\"><div class=\"sk-text-repr-fallback\"><pre>LinearRegression()</pre><b>In a Jupyter environment, please rerun this cell to show the HTML representation or trust the notebook. <br />On GitHub, the HTML representation is unable to render, please try loading this page with nbviewer.org.</b></div><div class=\"sk-container\" hidden><div class=\"sk-item\"><div class=\"sk-estimator sk-toggleable\"><input class=\"sk-toggleable__control sk-hidden--visually\" id=\"sk-estimator-id-4\" type=\"checkbox\" checked><label for=\"sk-estimator-id-4\" class=\"sk-toggleable__label sk-toggleable__label-arrow\">LinearRegression</label><div class=\"sk-toggleable__content\"><pre>LinearRegression()</pre></div></div></div></div></div>"
      ],
      "text/plain": [
       "LinearRegression()"
      ]
     },
     "execution_count": 103,
     "metadata": {},
     "output_type": "execute_result"
    }
   ],
   "source": [
    "from sklearn.linear_model import LinearRegression\n",
    "\n",
    "linreg = LinearRegression()\n",
    "linreg.fit(X_train,Y_train)"
   ]
  },
  {
   "cell_type": "code",
   "execution_count": 104,
   "id": "stable-original",
   "metadata": {},
   "outputs": [
    {
     "name": "stdout",
     "output_type": "stream",
     "text": [
      "Intercept of Regression [331.2340947]\n",
      "Coefficients of Regression [[ 6.43049606e-02  2.13576879e-01 -3.51579162e-01  2.79654729e-01\n",
      "   6.32225365e+01  7.12737497e-02  1.58028309e+00 -4.83670112e-01\n",
      "   2.42601210e-02  4.71901997e+00 -3.40129178e+00 -4.42878245e+00\n",
      "   1.24490328e+00  5.26934642e+00 -1.83520227e+00  6.40838028e+00\n",
      "  -8.92076170e+00 -4.16053164e-01  1.36044142e+00 -1.28011299e+00\n",
      "  -2.99915705e+00 -3.28569891e-03  2.85821465e+00  1.22907768e+00\n",
      "   1.95263406e-01  8.93655158e-01 -1.24834549e+00  3.54690335e-01\n",
      "   2.92466396e-02 -2.92466396e-02]]\n",
      "\n"
     ]
    },
    {
     "data": {
      "text/html": [
       "<div>\n",
       "<style scoped>\n",
       "    .dataframe tbody tr th:only-of-type {\n",
       "        vertical-align: middle;\n",
       "    }\n",
       "\n",
       "    .dataframe tbody tr th {\n",
       "        vertical-align: top;\n",
       "    }\n",
       "\n",
       "    .dataframe thead th {\n",
       "        text-align: right;\n",
       "    }\n",
       "</style>\n",
       "<table border=\"1\" class=\"dataframe\">\n",
       "  <thead>\n",
       "    <tr style=\"text-align: right;\">\n",
       "      <th></th>\n",
       "      <th>Predictors</th>\n",
       "      <th>Coefficients</th>\n",
       "    </tr>\n",
       "  </thead>\n",
       "  <tbody>\n",
       "    <tr>\n",
       "      <th>0</th>\n",
       "      <td>Temperature</td>\n",
       "      <td>0.064305</td>\n",
       "    </tr>\n",
       "    <tr>\n",
       "      <th>1</th>\n",
       "      <td>Humidity</td>\n",
       "      <td>0.213577</td>\n",
       "    </tr>\n",
       "    <tr>\n",
       "      <th>2</th>\n",
       "      <td>Pressure</td>\n",
       "      <td>-0.351579</td>\n",
       "    </tr>\n",
       "    <tr>\n",
       "      <th>3</th>\n",
       "      <td>Wind_Speed</td>\n",
       "      <td>0.279655</td>\n",
       "    </tr>\n",
       "    <tr>\n",
       "      <th>4</th>\n",
       "      <td>Precipitation</td>\n",
       "      <td>63.222536</td>\n",
       "    </tr>\n",
       "    <tr>\n",
       "      <th>5</th>\n",
       "      <td>Day</td>\n",
       "      <td>0.071274</td>\n",
       "    </tr>\n",
       "    <tr>\n",
       "      <th>6</th>\n",
       "      <td>Hour</td>\n",
       "      <td>1.580283</td>\n",
       "    </tr>\n",
       "    <tr>\n",
       "      <th>7</th>\n",
       "      <td>Visibility</td>\n",
       "      <td>-0.483670</td>\n",
       "    </tr>\n",
       "    <tr>\n",
       "      <th>8</th>\n",
       "      <td>Seats</td>\n",
       "      <td>0.024260</td>\n",
       "    </tr>\n",
       "    <tr>\n",
       "      <th>9</th>\n",
       "      <td>Airline_AirTran Airways Corporation</td>\n",
       "      <td>4.719020</td>\n",
       "    </tr>\n",
       "    <tr>\n",
       "      <th>10</th>\n",
       "      <td>Airline_American Airlines Inc.</td>\n",
       "      <td>-3.401292</td>\n",
       "    </tr>\n",
       "    <tr>\n",
       "      <th>11</th>\n",
       "      <td>Airline_Delta Air Lines Inc.</td>\n",
       "      <td>-4.428782</td>\n",
       "    </tr>\n",
       "    <tr>\n",
       "      <th>12</th>\n",
       "      <td>Airline_Endeavor Air Inc.</td>\n",
       "      <td>1.244903</td>\n",
       "    </tr>\n",
       "    <tr>\n",
       "      <th>13</th>\n",
       "      <td>Airline_ExpressJet Airlines Inc.</td>\n",
       "      <td>5.269346</td>\n",
       "    </tr>\n",
       "    <tr>\n",
       "      <th>14</th>\n",
       "      <td>Airline_JetBlue Airways</td>\n",
       "      <td>-1.835202</td>\n",
       "    </tr>\n",
       "    <tr>\n",
       "      <th>15</th>\n",
       "      <td>Airline_Southwest Airlines Co.</td>\n",
       "      <td>6.408380</td>\n",
       "    </tr>\n",
       "    <tr>\n",
       "      <th>16</th>\n",
       "      <td>Airline_US Airways Inc.</td>\n",
       "      <td>-8.920762</td>\n",
       "    </tr>\n",
       "    <tr>\n",
       "      <th>17</th>\n",
       "      <td>Airline_United Air Lines Inc.</td>\n",
       "      <td>-0.416053</td>\n",
       "    </tr>\n",
       "    <tr>\n",
       "      <th>18</th>\n",
       "      <td>Airline_Virgin America</td>\n",
       "      <td>1.360441</td>\n",
       "    </tr>\n",
       "    <tr>\n",
       "      <th>19</th>\n",
       "      <td>Manufacturer_AIRBUS INDUSTRIE</td>\n",
       "      <td>-1.280113</td>\n",
       "    </tr>\n",
       "    <tr>\n",
       "      <th>20</th>\n",
       "      <td>Manufacturer_BOEING</td>\n",
       "      <td>-2.999157</td>\n",
       "    </tr>\n",
       "    <tr>\n",
       "      <th>21</th>\n",
       "      <td>Manufacturer_BOMBARDIER INC</td>\n",
       "      <td>-0.003286</td>\n",
       "    </tr>\n",
       "    <tr>\n",
       "      <th>22</th>\n",
       "      <td>Manufacturer_CANADAIR</td>\n",
       "      <td>2.858215</td>\n",
       "    </tr>\n",
       "    <tr>\n",
       "      <th>23</th>\n",
       "      <td>Manufacturer_EMBRAER</td>\n",
       "      <td>1.229078</td>\n",
       "    </tr>\n",
       "    <tr>\n",
       "      <th>24</th>\n",
       "      <td>Manufacturer_MCDONNELL DOUGLAS CORPORATION</td>\n",
       "      <td>0.195263</td>\n",
       "    </tr>\n",
       "    <tr>\n",
       "      <th>25</th>\n",
       "      <td>Origin_EWR</td>\n",
       "      <td>0.893655</td>\n",
       "    </tr>\n",
       "    <tr>\n",
       "      <th>26</th>\n",
       "      <td>Origin_JFK</td>\n",
       "      <td>-1.248345</td>\n",
       "    </tr>\n",
       "    <tr>\n",
       "      <th>27</th>\n",
       "      <td>Origin_LGA</td>\n",
       "      <td>0.354690</td>\n",
       "    </tr>\n",
       "    <tr>\n",
       "      <th>28</th>\n",
       "      <td>Engine_Type_Turbo-fan</td>\n",
       "      <td>0.029247</td>\n",
       "    </tr>\n",
       "    <tr>\n",
       "      <th>29</th>\n",
       "      <td>Engine_Type_Turbo-jet</td>\n",
       "      <td>-0.029247</td>\n",
       "    </tr>\n",
       "  </tbody>\n",
       "</table>\n",
       "</div>"
      ],
      "text/plain": [
       "                                    Predictors  Coefficients\n",
       "0                                  Temperature      0.064305\n",
       "1                                     Humidity      0.213577\n",
       "2                                     Pressure     -0.351579\n",
       "3                                   Wind_Speed      0.279655\n",
       "4                                Precipitation     63.222536\n",
       "5                                          Day      0.071274\n",
       "6                                         Hour      1.580283\n",
       "7                                   Visibility     -0.483670\n",
       "8                                        Seats      0.024260\n",
       "9          Airline_AirTran Airways Corporation      4.719020\n",
       "10              Airline_American Airlines Inc.     -3.401292\n",
       "11                Airline_Delta Air Lines Inc.     -4.428782\n",
       "12                   Airline_Endeavor Air Inc.      1.244903\n",
       "13            Airline_ExpressJet Airlines Inc.      5.269346\n",
       "14                     Airline_JetBlue Airways     -1.835202\n",
       "15              Airline_Southwest Airlines Co.      6.408380\n",
       "16                     Airline_US Airways Inc.     -8.920762\n",
       "17               Airline_United Air Lines Inc.     -0.416053\n",
       "18                      Airline_Virgin America      1.360441\n",
       "19               Manufacturer_AIRBUS INDUSTRIE     -1.280113\n",
       "20                         Manufacturer_BOEING     -2.999157\n",
       "21                 Manufacturer_BOMBARDIER INC     -0.003286\n",
       "22                       Manufacturer_CANADAIR      2.858215\n",
       "23                        Manufacturer_EMBRAER      1.229078\n",
       "24  Manufacturer_MCDONNELL DOUGLAS CORPORATION      0.195263\n",
       "25                                  Origin_EWR      0.893655\n",
       "26                                  Origin_JFK     -1.248345\n",
       "27                                  Origin_LGA      0.354690\n",
       "28                       Engine_Type_Turbo-fan      0.029247\n",
       "29                       Engine_Type_Turbo-jet     -0.029247"
      ]
     },
     "execution_count": 104,
     "metadata": {},
     "output_type": "execute_result"
    }
   ],
   "source": [
    "print('Intercept of Regression', linreg.intercept_)\n",
    "print('Coefficients of Regression', linreg.coef_)\n",
    "print()\n",
    "\n",
    "pd.DataFrame(list(zip(X_train.columns, linreg.coef_[0])), columns = ['Predictors','Coefficients'])"
   ]
  },
  {
   "cell_type": "code",
   "execution_count": 105,
   "id": "coastal-ambassador",
   "metadata": {},
   "outputs": [
    {
     "data": {
      "image/png": "[encoded data removed]",
      "text/plain": [
       "<Figure size 1728x864 with 2 Axes>"
      ]
     },
     "metadata": {},
     "output_type": "display_data"
    }
   ],
   "source": [
    "Y_train_pred = linreg.predict(X_train)\n",
    "Y_test_pred = linreg.predict(X_test)\n",
    "\n",
    "f, axes = plt.subplots(1, 2, figsize=(24, 12))\n",
    "axes[0].scatter(Y_train, Y_train_pred, color = \"red\")\n",
    "axes[0].plot(Y_train, Y_train, 'w-', linewidth = 1)\n",
    "axes[0].set_xlabel(\"True values of the Response Variable (Train)\")\n",
    "axes[0].set_ylabel(\"Predicted values of the Response Variable (Train)\")\n",
    "axes[1].scatter(Y_test, Y_test_pred, color = \"purple\")\n",
    "axes[1].plot(Y_test, Y_test, 'w-', linewidth = 1)\n",
    "axes[1].set_xlabel(\"True values of the Response Variable (Test)\")\n",
    "axes[1].set_ylabel(\"Predicted values of the Response Variable (Test)\")\n",
    "plt.show()"
   ]
  },
  {
   "cell_type": "code",
   "execution_count": 106,
   "id": "alpha-liver",
   "metadata": {},
   "outputs": [
    {
     "name": "stdout",
     "output_type": "stream",
     "text": [
      "Goodness of Fit of Model \tTrain Dataset\n",
      "Explained Variance (R^2) \t: 0.07256418858041325\n",
      "Mean Squared Error (MSE) \t: 1309.9116819362275\n",
      "\n",
      "Goodness of Fit of Model \tTest Dataset\n",
      "Explained Variance (R^2) \t: 0.07349279299112099\n",
      "Mean Squared Error (MSE) \t: 1328.6432774537482\n",
      "\n"
     ]
    }
   ],
   "source": [
    "from sklearn.metrics import mean_squared_error\n",
    "\n",
    "print(\"Goodness of Fit of Model \\tTrain Dataset\")\n",
    "print(\"Explained Variance (R^2) \\t:\", linreg.score(X_train, Y_train))\n",
    "print(\"Mean Squared Error (MSE) \\t:\", mean_squared_error(Y_train, Y_train_pred))\n",
    "print()\n",
    "\n",
    "print(\"Goodness of Fit of Model \\tTest Dataset\")\n",
    "print(\"Explained Variance (R^2) \\t:\", linreg.score(X_test, Y_test))\n",
    "print(\"Mean Squared Error (MSE) \\t:\", mean_squared_error(Y_test, Y_test_pred))\n",
    "print()"
   ]
  },
  {
   "cell_type": "markdown",
   "id": "square-singing",
   "metadata": {},
   "source": [
    "### Random Forest Regressor"
   ]
  },
  {
   "cell_type": "code",
   "execution_count": 54,
   "id": "opposite-belgium",
   "metadata": {},
   "outputs": [],
   "source": [
    "import sklearn.ensemble as ml"
   ]
  },
  {
   "cell_type": "code",
   "execution_count": 55,
   "id": "taken-course",
   "metadata": {},
   "outputs": [
    {
     "name": "stdout",
     "output_type": "stream",
     "text": [
      "Train Set : (68376, 1) (68376, 30)\n",
      "Test Set  : (22793, 1) (22793, 30)\n"
     ]
    }
   ],
   "source": [
    "X_train, X_test, Y_train, Y_test = train_test_split(X, Y, test_size = 0.25,random_state=200)\n",
    "\n",
    "print(\"Train Set :\", Y_train.shape, X_train.shape)\n",
    "print(\"Test Set  :\", Y_test.shape, X_test.shape)"
   ]
  },
  {
   "cell_type": "code",
   "execution_count": 56,
   "id": "funded-entrepreneur",
   "metadata": {},
   "outputs": [
    {
     "data": {
      "text/html": [
       "<div>\n",
       "<style scoped>\n",
       "    .dataframe tbody tr th:only-of-type {\n",
       "        vertical-align: middle;\n",
       "    }\n",
       "\n",
       "    .dataframe tbody tr th {\n",
       "        vertical-align: top;\n",
       "    }\n",
       "\n",
       "    .dataframe thead th {\n",
       "        text-align: right;\n",
       "    }\n",
       "</style>\n",
       "<table border=\"1\" class=\"dataframe\">\n",
       "  <thead>\n",
       "    <tr style=\"text-align: right;\">\n",
       "      <th></th>\n",
       "      <th>Predictors</th>\n",
       "      <th>Coefficients</th>\n",
       "    </tr>\n",
       "  </thead>\n",
       "  <tbody>\n",
       "    <tr>\n",
       "      <th>0</th>\n",
       "      <td>Temperature</td>\n",
       "      <td>0.130915</td>\n",
       "    </tr>\n",
       "    <tr>\n",
       "      <th>1</th>\n",
       "      <td>Humidity</td>\n",
       "      <td>0.316160</td>\n",
       "    </tr>\n",
       "    <tr>\n",
       "      <th>2</th>\n",
       "      <td>Pressure</td>\n",
       "      <td>-0.448000</td>\n",
       "    </tr>\n",
       "    <tr>\n",
       "      <th>3</th>\n",
       "      <td>Wind_Speed</td>\n",
       "      <td>0.289458</td>\n",
       "    </tr>\n",
       "    <tr>\n",
       "      <th>4</th>\n",
       "      <td>Precipitation</td>\n",
       "      <td>-3.566370</td>\n",
       "    </tr>\n",
       "    <tr>\n",
       "      <th>5</th>\n",
       "      <td>Day</td>\n",
       "      <td>0.059783</td>\n",
       "    </tr>\n",
       "    <tr>\n",
       "      <th>6</th>\n",
       "      <td>Hour</td>\n",
       "      <td>1.622020</td>\n",
       "    </tr>\n",
       "    <tr>\n",
       "      <th>7</th>\n",
       "      <td>Visibility</td>\n",
       "      <td>-0.516600</td>\n",
       "    </tr>\n",
       "    <tr>\n",
       "      <th>8</th>\n",
       "      <td>Seats</td>\n",
       "      <td>0.021228</td>\n",
       "    </tr>\n",
       "    <tr>\n",
       "      <th>9</th>\n",
       "      <td>Airline_AirTran Airways Corporation</td>\n",
       "      <td>6.085324</td>\n",
       "    </tr>\n",
       "    <tr>\n",
       "      <th>10</th>\n",
       "      <td>Airline_American Airlines Inc.</td>\n",
       "      <td>7.578867</td>\n",
       "    </tr>\n",
       "    <tr>\n",
       "      <th>11</th>\n",
       "      <td>Airline_Delta Air Lines Inc.</td>\n",
       "      <td>-1.698451</td>\n",
       "    </tr>\n",
       "    <tr>\n",
       "      <th>12</th>\n",
       "      <td>Airline_Endeavor Air Inc.</td>\n",
       "      <td>-4.696836</td>\n",
       "    </tr>\n",
       "    <tr>\n",
       "      <th>13</th>\n",
       "      <td>Airline_ExpressJet Airlines Inc.</td>\n",
       "      <td>0.137937</td>\n",
       "    </tr>\n",
       "    <tr>\n",
       "      <th>14</th>\n",
       "      <td>Airline_JetBlue Airways</td>\n",
       "      <td>-1.482385</td>\n",
       "    </tr>\n",
       "    <tr>\n",
       "      <th>15</th>\n",
       "      <td>Airline_Southwest Airlines Co.</td>\n",
       "      <td>5.350854</td>\n",
       "    </tr>\n",
       "    <tr>\n",
       "      <th>16</th>\n",
       "      <td>Airline_US Airways Inc.</td>\n",
       "      <td>-7.971718</td>\n",
       "    </tr>\n",
       "    <tr>\n",
       "      <th>17</th>\n",
       "      <td>Airline_United Air Lines Inc.</td>\n",
       "      <td>-3.436371</td>\n",
       "    </tr>\n",
       "    <tr>\n",
       "      <th>18</th>\n",
       "      <td>Airline_Virgin America</td>\n",
       "      <td>0.132779</td>\n",
       "    </tr>\n",
       "    <tr>\n",
       "      <th>19</th>\n",
       "      <td>Manufacturer_AIRBUS INDUSTRIE</td>\n",
       "      <td>-7.279264</td>\n",
       "    </tr>\n",
       "    <tr>\n",
       "      <th>20</th>\n",
       "      <td>Manufacturer_BOEING</td>\n",
       "      <td>-16.647086</td>\n",
       "    </tr>\n",
       "    <tr>\n",
       "      <th>21</th>\n",
       "      <td>Manufacturer_BOMBARDIER INC</td>\n",
       "      <td>8.748872</td>\n",
       "    </tr>\n",
       "    <tr>\n",
       "      <th>22</th>\n",
       "      <td>Manufacturer_CANADAIR</td>\n",
       "      <td>15.547502</td>\n",
       "    </tr>\n",
       "    <tr>\n",
       "      <th>23</th>\n",
       "      <td>Manufacturer_EMBRAER</td>\n",
       "      <td>3.364322</td>\n",
       "    </tr>\n",
       "    <tr>\n",
       "      <th>24</th>\n",
       "      <td>Manufacturer_MCDONNELL DOUGLAS CORPORATION</td>\n",
       "      <td>-3.734345</td>\n",
       "    </tr>\n",
       "    <tr>\n",
       "      <th>25</th>\n",
       "      <td>Origin_EWR</td>\n",
       "      <td>1.515803</td>\n",
       "    </tr>\n",
       "    <tr>\n",
       "      <th>26</th>\n",
       "      <td>Origin_JFK</td>\n",
       "      <td>-5.026485</td>\n",
       "    </tr>\n",
       "    <tr>\n",
       "      <th>27</th>\n",
       "      <td>Origin_LGA</td>\n",
       "      <td>3.510683</td>\n",
       "    </tr>\n",
       "    <tr>\n",
       "      <th>28</th>\n",
       "      <td>Engine_Type_Turbo-fan</td>\n",
       "      <td>-1.748665</td>\n",
       "    </tr>\n",
       "    <tr>\n",
       "      <th>29</th>\n",
       "      <td>Engine_Type_Turbo-jet</td>\n",
       "      <td>1.748665</td>\n",
       "    </tr>\n",
       "  </tbody>\n",
       "</table>\n",
       "</div>"
      ],
      "text/plain": [
       "                                    Predictors  Coefficients\n",
       "0                                  Temperature      0.130915\n",
       "1                                     Humidity      0.316160\n",
       "2                                     Pressure     -0.448000\n",
       "3                                   Wind_Speed      0.289458\n",
       "4                                Precipitation     -3.566370\n",
       "5                                          Day      0.059783\n",
       "6                                         Hour      1.622020\n",
       "7                                   Visibility     -0.516600\n",
       "8                                        Seats      0.021228\n",
       "9          Airline_AirTran Airways Corporation      6.085324\n",
       "10              Airline_American Airlines Inc.      7.578867\n",
       "11                Airline_Delta Air Lines Inc.     -1.698451\n",
       "12                   Airline_Endeavor Air Inc.     -4.696836\n",
       "13            Airline_ExpressJet Airlines Inc.      0.137937\n",
       "14                     Airline_JetBlue Airways     -1.482385\n",
       "15              Airline_Southwest Airlines Co.      5.350854\n",
       "16                     Airline_US Airways Inc.     -7.971718\n",
       "17               Airline_United Air Lines Inc.     -3.436371\n",
       "18                      Airline_Virgin America      0.132779\n",
       "19               Manufacturer_AIRBUS INDUSTRIE     -7.279264\n",
       "20                         Manufacturer_BOEING    -16.647086\n",
       "21                 Manufacturer_BOMBARDIER INC      8.748872\n",
       "22                       Manufacturer_CANADAIR     15.547502\n",
       "23                        Manufacturer_EMBRAER      3.364322\n",
       "24  Manufacturer_MCDONNELL DOUGLAS CORPORATION     -3.734345\n",
       "25                                  Origin_EWR      1.515803\n",
       "26                                  Origin_JFK     -5.026485\n",
       "27                                  Origin_LGA      3.510683\n",
       "28                       Engine_Type_Turbo-fan     -1.748665\n",
       "29                       Engine_Type_Turbo-jet      1.748665"
      ]
     },
     "execution_count": 56,
     "metadata": {},
     "output_type": "execute_result"
    }
   ],
   "source": [
    "from sklearn.ensemble import RandomForestRegressor\n",
    "\n",
    "regressor = RandomForestRegressor(n_estimators=10, random_state=0,max_depth = 12)\n",
    "\n",
    "regressor.fit(X_train,Y_train.Departure_Delay.ravel())\n",
    "\n",
    "pd.DataFrame(list(zip(X_train.columns, linreg.coef_[0])), columns = ['Predictors','Coefficients'])"
   ]
  },
  {
   "cell_type": "code",
   "execution_count": 57,
   "id": "prospective-archives",
   "metadata": {},
   "outputs": [
    {
     "data": {
      "image/png": "[encoded data removed]",
      "text/plain": [
       "<Figure size 1728x864 with 2 Axes>"
      ]
     },
     "metadata": {},
     "output_type": "display_data"
    }
   ],
   "source": [
    "Y_train_pred = regressor.predict(X_train)\n",
    "Y_test_pred = regressor.predict(X_test)\n",
    "\n",
    "f, axes = plt.subplots(1, 2, figsize=(24, 12))\n",
    "axes[0].scatter(Y_train, Y_train_pred, color = \"blue\")\n",
    "axes[0].plot(Y_train, Y_train, 'w-', linewidth = 1)\n",
    "axes[0].set_xlabel(\"True values of the Response Variable (Train)\")\n",
    "axes[0].set_ylabel(\"Predicted values of the Response Variable (Train)\")\n",
    "axes[1].scatter(Y_test, Y_test_pred, color = \"green\")\n",
    "axes[1].plot(Y_test, Y_test, 'w-', linewidth = 1)\n",
    "axes[1].set_xlabel(\"True values of the Response Variable (Test)\")\n",
    "axes[1].set_ylabel(\"Predicted values of the Response Variable (Test)\")\n",
    "plt.show()"
   ]
  },
  {
   "cell_type": "code",
   "execution_count": 58,
   "id": "broke-czech",
   "metadata": {},
   "outputs": [
    {
     "name": "stdout",
     "output_type": "stream",
     "text": [
      "Goodness of Fit of Model \tTrain Dataset\n",
      "Explained Variance (R^2) \t: 0.3817291055557537\n",
      "Mean Squared Error (MSE) \t: 1608.9853436560184\n",
      "\n",
      "Goodness of Fit of Model \tTest Dataset\n",
      "Explained Variance (R^2) \t: 0.11946900476329103\n",
      "Mean Squared Error (MSE) \t: 2263.420460781498\n",
      "\n"
     ]
    }
   ],
   "source": [
    "print(\"Goodness of Fit of Model \\tTrain Dataset\")\n",
    "print(\"Explained Variance (R^2) \\t:\", regressor.score(X_train, Y_train))\n",
    "print(\"Mean Squared Error (MSE) \\t:\", mean_squared_error(Y_train, Y_train_pred))\n",
    "print()\n",
    "\n",
    "print(\"Goodness of Fit of Model \\tTest Dataset\")\n",
    "print(\"Explained Variance (R^2) \\t:\", regressor.score(X_test, Y_test))\n",
    "print(\"Mean Squared Error (MSE) \\t:\", mean_squared_error(Y_test, Y_test_pred))\n",
    "print()"
   ]
  },
  {
   "cell_type": "markdown",
   "id": "hollow-conviction",
   "metadata": {},
   "source": [
    "### XGBoost Regressor"
   ]
  },
  {
   "cell_type": "code",
   "execution_count": 59,
   "id": "geographic-entrance",
   "metadata": {},
   "outputs": [
    {
     "name": "stdout",
     "output_type": "stream",
     "text": [
      "\u001b[33mWARNING: Ignoring invalid distribution -rotobuf (/home/NIHALARY001/CZ1016/base/lib/python3.8/site-packages)\u001b[0m\u001b[33m\n",
      "\u001b[0m\u001b[33mWARNING: Ignoring invalid distribution -ip (/home/NIHALARY001/CZ1016/base/lib/python3.8/site-packages)\u001b[0m\u001b[33m\n",
      "\u001b[0m\u001b[33mWARNING: Ignoring invalid distribution -ackaging (/home/NIHALARY001/CZ1016/base/lib/python3.8/site-packages)\u001b[0m\u001b[33m\n",
      "\u001b[0m\u001b[33mWARNING: Ignoring invalid distribution -rotobuf (/home/NIHALARY001/CZ1016/base/lib/python3.8/site-packages)\u001b[0m\u001b[33m\n",
      "\u001b[0m\u001b[33mWARNING: Ignoring invalid distribution -ip (/home/NIHALARY001/CZ1016/base/lib/python3.8/site-packages)\u001b[0m\u001b[33m\n",
      "\u001b[0m\u001b[33mWARNING: Ignoring invalid distribution -ackaging (/home/NIHALARY001/CZ1016/base/lib/python3.8/site-packages)\u001b[0m\u001b[33m\n",
      "\u001b[0mRequirement already satisfied: xgboost in /home/NIHALARY001/CZ1016/base/lib/python3.8/site-packages (1.3.3)\n",
      "Requirement already satisfied: numpy in /home/NIHALARY001/CZ1016/base/lib/python3.8/site-packages (from xgboost) (1.23.3)\n",
      "Requirement already satisfied: scipy in /apps/python/v3.8.5/lib/python3.8/site-packages (from xgboost) (1.4.1)\n",
      "\u001b[33mWARNING: Ignoring invalid distribution -rotobuf (/home/NIHALARY001/CZ1016/base/lib/python3.8/site-packages)\u001b[0m\u001b[33m\n",
      "\u001b[0m\u001b[33mWARNING: Ignoring invalid distribution -ip (/home/NIHALARY001/CZ1016/base/lib/python3.8/site-packages)\u001b[0m\u001b[33m\n",
      "\u001b[0m\u001b[33mWARNING: Ignoring invalid distribution -ackaging (/home/NIHALARY001/CZ1016/base/lib/python3.8/site-packages)\u001b[0m\u001b[33m\n",
      "\u001b[0m\u001b[33mWARNING: Ignoring invalid distribution -rotobuf (/home/NIHALARY001/CZ1016/base/lib/python3.8/site-packages)\u001b[0m\u001b[33m\n",
      "\u001b[0m\u001b[33mWARNING: Ignoring invalid distribution -ip (/home/NIHALARY001/CZ1016/base/lib/python3.8/site-packages)\u001b[0m\u001b[33m\n",
      "\u001b[0m\u001b[33mWARNING: Ignoring invalid distribution -ackaging (/home/NIHALARY001/CZ1016/base/lib/python3.8/site-packages)\u001b[0m\u001b[33m\n",
      "\u001b[0m\u001b[33mWARNING: Ignoring invalid distribution -rotobuf (/home/NIHALARY001/CZ1016/base/lib/python3.8/site-packages)\u001b[0m\u001b[33m\n",
      "\u001b[0m\u001b[33mWARNING: Ignoring invalid distribution -ip (/home/NIHALARY001/CZ1016/base/lib/python3.8/site-packages)\u001b[0m\u001b[33m\n",
      "\u001b[0m\u001b[33mWARNING: Ignoring invalid distribution -ackaging (/home/NIHALARY001/CZ1016/base/lib/python3.8/site-packages)\u001b[0m\u001b[33m\n",
      "\u001b[0m\u001b[33mWARNING: Ignoring invalid distribution -rotobuf (/home/NIHALARY001/CZ1016/base/lib/python3.8/site-packages)\u001b[0m\u001b[33m\n",
      "\u001b[0m\u001b[33mWARNING: Ignoring invalid distribution -ip (/home/NIHALARY001/CZ1016/base/lib/python3.8/site-packages)\u001b[0m\u001b[33m\n",
      "\u001b[0m\u001b[33mWARNING: Ignoring invalid distribution -ackaging (/home/NIHALARY001/CZ1016/base/lib/python3.8/site-packages)\u001b[0m\u001b[33m\n",
      "\u001b[0m\n",
      "\u001b[1m[\u001b[0m\u001b[34;49mnotice\u001b[0m\u001b[1;39;49m]\u001b[0m\u001b[39;49m A new release of pip available: \u001b[0m\u001b[31;49m22.2.2\u001b[0m\u001b[39;49m -> \u001b[0m\u001b[32;49m23.2.1\u001b[0m\n",
      "\u001b[1m[\u001b[0m\u001b[34;49mnotice\u001b[0m\u001b[1;39;49m]\u001b[0m\u001b[39;49m To update, run: \u001b[0m\u001b[32;49mpip install --upgrade pip\u001b[0m\n"
     ]
    }
   ],
   "source": [
    "!pip install xgboost"
   ]
  },
  {
   "cell_type": "code",
   "execution_count": 107,
   "id": "italian-fireplace",
   "metadata": {},
   "outputs": [],
   "source": [
    "import xgboost as xgb\n",
    "from sklearn.metrics import r2_score"
   ]
  },
  {
   "cell_type": "code",
   "execution_count": 108,
   "id": "greek-implement",
   "metadata": {},
   "outputs": [
    {
     "name": "stdout",
     "output_type": "stream",
     "text": [
      "[18:37:38] WARNING: ../src/objective/regression_obj.cu:170: reg:linear is now deprecated in favor of reg:squarederror.\n"
     ]
    }
   ],
   "source": [
    "train_X, test_X, train_y, test_y = train_test_split(X, Y,test_size = 0.25, random_state = 200)\n",
    "  \n",
    "xgb_r = xgb.XGBRegressor(objective ='reg:linear', n_estimators = 150, seed = 123)  \n",
    "\n",
    "xgb_r.fit(train_X, train_y)\n",
    "  \n",
    "\n",
    "pred = xgb_r.predict(test_X)\n",
    "\n",
    "train_pred = xgb_r.predict(train_X)\n",
    "  \n",
    "\n",
    "#rmse = np.sqrt(MSE(test_y, pred))\n",
    "#print(\"RMSE : % f\" %(rmse))"
   ]
  },
  {
   "cell_type": "code",
   "execution_count": 109,
   "id": "decreased-consumption",
   "metadata": {},
   "outputs": [
    {
     "data": {
      "image/png": "[encoded data removed]",
      "text/plain": [
       "<Figure size 1728x864 with 2 Axes>"
      ]
     },
     "metadata": {},
     "output_type": "display_data"
    }
   ],
   "source": [
    "train_pred = xgb_r.predict(train_X)\n",
    "pred = xgb_r.predict(test_X)\n",
    "\n",
    "f, axes = plt.subplots(1, 2, figsize=(24, 12))\n",
    "axes[0].scatter(train_y, train_pred, color = \"blue\")\n",
    "axes[0].plot(train_y, train_y, 'w-', linewidth = 1)\n",
    "axes[0].set_xlabel(\"True values of the Response Variable (Train)\")\n",
    "axes[0].set_ylabel(\"Predicted values of the Response Variable (Train)\")\n",
    "axes[1].scatter(test_y, pred, color = \"green\")\n",
    "axes[1].plot(test_y, test_y, 'w-', linewidth = 1)\n",
    "axes[1].set_xlabel(\"True values of the Response Variable (Test)\")\n",
    "axes[1].set_ylabel(\"Predicted values of the Response Variable (Test)\")\n",
    "plt.show()"
   ]
  },
  {
   "cell_type": "code",
   "execution_count": 110,
   "id": "subtle-hopkins",
   "metadata": {},
   "outputs": [
    {
     "name": "stdout",
     "output_type": "stream",
     "text": [
      "Goodness of Fit of Model \tTrain Dataset\n",
      "Explained Variance (R^2) \t: 0.3270433076154253\n",
      "Mean Squared Error (MSE) \t: 950.485006010737\n",
      "\n",
      "Goodness of Fit of Model \tTest Dataset\n",
      "Explained Variance (R^2) \t: 0.21870558958530573\n",
      "Mean Squared Error (MSE) \t: 1120.4031207279374\n",
      "\n"
     ]
    }
   ],
   "source": [
    "print(\"Goodness of Fit of Model \\tTrain Dataset\")\n",
    "print(\"Explained Variance (R^2) \\t:\", r2_score(train_y,train_pred))\n",
    "print(\"Mean Squared Error (MSE) \\t:\", mean_squared_error(train_y, train_pred))\n",
    "print()\n",
    "\n",
    "print(\"Goodness of Fit of Model \\tTest Dataset\")\n",
    "print(\"Explained Variance (R^2) \\t:\", r2_score(test_y,pred))\n",
    "print(\"Mean Squared Error (MSE) \\t:\", mean_squared_error(test_y,pred))\n",
    "print()"
   ]
  },
  {
   "cell_type": "code",
   "execution_count": 111,
   "id": "rising-bulletin",
   "metadata": {},
   "outputs": [
    {
     "data": {
      "text/plain": [
       "<AxesSubplot:title={'center':'Feature importance'}, xlabel='F score', ylabel='Features'>"
      ]
     },
     "execution_count": 111,
     "metadata": {},
     "output_type": "execute_result"
    },
    {
     "data": {
      "text/plain": [
       "<Figure size 2880x1440 with 0 Axes>"
      ]
     },
     "metadata": {},
     "output_type": "display_data"
    },
    {
     "data": {
      "image/png": "[encoded data removed]",
      "text/plain": [
       "<Figure size 432x288 with 1 Axes>"
      ]
     },
     "metadata": {},
     "output_type": "display_data"
    }
   ],
   "source": [
    "f = plt.figure(figsize=(40,20))\n",
    "xgb.plot_importance(booster=xgb_r)"
   ]
  },
  {
   "cell_type": "markdown",
   "id": "median-association",
   "metadata": {},
   "source": [
    "## Classification Models"
   ]
  },
  {
   "cell_type": "markdown",
   "id": "bulgarian-algeria",
   "metadata": {},
   "source": [
    "### Preparing the Dataset"
   ]
  },
  {
   "cell_type": "markdown",
   "id": "failing-brazilian",
   "metadata": {},
   "source": [
    "For classification, we have to first balance out the classes we have in the dataset"
   ]
  },
  {
   "cell_type": "code",
   "execution_count": 112,
   "id": "smart-curtis",
   "metadata": {},
   "outputs": [],
   "source": [
    "from sklearn.preprocessing import OneHotEncoder\n",
    "enc = OneHotEncoder()"
   ]
  },
  {
   "cell_type": "code",
   "execution_count": 113,
   "id": "viral-bread",
   "metadata": {},
   "outputs": [
    {
     "data": {
      "text/plain": [
       "<seaborn.axisgrid.FacetGrid at 0x154cc2a87070>"
      ]
     },
     "execution_count": 113,
     "metadata": {},
     "output_type": "execute_result"
    },
    {
     "data": {
      "image/png": "[encoded data removed]",
      "text/plain": [
       "<Figure size 360x360 with 1 Axes>"
      ]
     },
     "metadata": {},
     "output_type": "display_data"
    }
   ],
   "source": [
    "sb.catplot(y=\"Delay_Level\",data =DF ,kind = 'count')"
   ]
  },
  {
   "cell_type": "code",
   "execution_count": 114,
   "id": "ideal-wilderness",
   "metadata": {},
   "outputs": [
    {
     "data": {
      "text/plain": [
       "0    185491\n",
       "1     25222\n",
       "2     23059\n",
       "Name: Delay_Level, dtype: int64"
      ]
     },
     "execution_count": 114,
     "metadata": {},
     "output_type": "execute_result"
    }
   ],
   "source": [
    "DF[\"Delay_Level\"].value_counts()"
   ]
  },
  {
   "cell_type": "code",
   "execution_count": 115,
   "id": "distinguished-wrestling",
   "metadata": {},
   "outputs": [],
   "source": [
    "balancinglevel = int((25222 + 23059)/2)"
   ]
  },
  {
   "cell_type": "code",
   "execution_count": 116,
   "id": "practical-brazilian",
   "metadata": {},
   "outputs": [
    {
     "data": {
      "text/plain": [
       "24140"
      ]
     },
     "execution_count": 116,
     "metadata": {},
     "output_type": "execute_result"
    }
   ],
   "source": [
    "balancinglevel"
   ]
  },
  {
   "cell_type": "code",
   "execution_count": 117,
   "id": "handy-diana",
   "metadata": {},
   "outputs": [],
   "source": [
    "rfcdf = DF.copy()"
   ]
  },
  {
   "cell_type": "code",
   "execution_count": 118,
   "id": "psychological-bronze",
   "metadata": {},
   "outputs": [
    {
     "data": {
      "text/plain": [
       "0    185491\n",
       "1     25222\n",
       "2     23059\n",
       "Name: Delay_Level, dtype: int64"
      ]
     },
     "execution_count": 118,
     "metadata": {},
     "output_type": "execute_result"
    }
   ],
   "source": [
    "rfcdf.dropna(inplace=True)\n",
    "rfcdf[\"Delay_Level\"].value_counts()"
   ]
  },
  {
   "cell_type": "code",
   "execution_count": 119,
   "id": "regular-marketing",
   "metadata": {},
   "outputs": [],
   "source": [
    "rfcdf_dl0 = rfcdf[rfcdf.Delay_Level == 0]\n",
    "rfcdf_dlother = rfcdf[rfcdf.Delay_Level != 0]"
   ]
  },
  {
   "cell_type": "markdown",
   "id": "theoretical-species",
   "metadata": {},
   "source": [
    "We chose to downsample the class of small delays since the other 2 classes were relatively balanced already."
   ]
  },
  {
   "cell_type": "code",
   "execution_count": 120,
   "id": "minor-specific",
   "metadata": {},
   "outputs": [],
   "source": [
    "from sklearn.utils import resample\n",
    "\n",
    "rfcdf_dl0_downsampled = resample(rfcdf_dl0,replace = False,n_samples =balancinglevel,random_state =300)"
   ]
  },
  {
   "cell_type": "code",
   "execution_count": 121,
   "id": "handy-final",
   "metadata": {},
   "outputs": [
    {
     "name": "stdout",
     "output_type": "stream",
     "text": [
      "<class 'pandas.core.frame.DataFrame'>\n",
      "Int64Index: 24140 entries, 79293 to 188716\n",
      "Data columns (total 33 columns):\n",
      " #   Column             Non-Null Count  Dtype  \n",
      "---  ------             --------------  -----  \n",
      " 0   Unnamed: 0         24140 non-null  int64  \n",
      " 1   Time_Hour_TS       24140 non-null  object \n",
      " 2   Airline            24140 non-null  object \n",
      " 3   Flight_Number      24140 non-null  int64  \n",
      " 4   Tail_Number        24140 non-null  object \n",
      " 5   Departure_Time     24140 non-null  object \n",
      " 6   Departure_Delay    24140 non-null  float64\n",
      " 7   Arrival_Time       24140 non-null  object \n",
      " 8   Arrival_Delay      24140 non-null  float64\n",
      " 9   Origin             24140 non-null  object \n",
      " 10  Destination        24140 non-null  object \n",
      " 11  Flight_Distance    24140 non-null  int64  \n",
      " 12  Flight_Duration    24140 non-null  float64\n",
      " 13  Aircraft_Type      24140 non-null  object \n",
      " 14  Model              24140 non-null  object \n",
      " 15  Year_Manufactured  24140 non-null  float64\n",
      " 16  Manufacturer       24140 non-null  object \n",
      " 17  Number_of_Engines  24140 non-null  int64  \n",
      " 18  Engine_Type        24140 non-null  object \n",
      " 19  Seats              24140 non-null  int64  \n",
      " 20  Temperature        24140 non-null  float64\n",
      " 21  Humidity           24140 non-null  float64\n",
      " 22  Wind_Direction     24140 non-null  float64\n",
      " 23  Wind_Speed         24140 non-null  float64\n",
      " 24  Precipitation      24140 non-null  float64\n",
      " 25  Pressure           24140 non-null  float64\n",
      " 26  Visibility         24140 non-null  float64\n",
      " 27  Year               24140 non-null  int64  \n",
      " 28  Month              24140 non-null  int64  \n",
      " 29  Day                24140 non-null  int64  \n",
      " 30  Hour               24140 non-null  int64  \n",
      " 31  Time_Series        24140 non-null  object \n",
      " 32  Delay_Level        24140 non-null  int64  \n",
      "dtypes: float64(11), int64(10), object(12)\n",
      "memory usage: 6.3+ MB\n"
     ]
    }
   ],
   "source": [
    "rfcdf_dl0_downsampled.info()"
   ]
  },
  {
   "cell_type": "code",
   "execution_count": 122,
   "id": "incomplete-revision",
   "metadata": {},
   "outputs": [
    {
     "data": {
      "text/plain": [
       "1    25222\n",
       "0    24140\n",
       "2    23059\n",
       "Name: Delay_Level, dtype: int64"
      ]
     },
     "execution_count": 122,
     "metadata": {},
     "output_type": "execute_result"
    }
   ],
   "source": [
    "rfcdf_downsampled = pd.concat([rfcdf_dlother, rfcdf_dl0_downsampled])\n",
    "rfcdf_downsampled[\"Delay_Level\"].value_counts()"
   ]
  },
  {
   "cell_type": "code",
   "execution_count": 123,
   "id": "skilled-mineral",
   "metadata": {},
   "outputs": [
    {
     "name": "stdout",
     "output_type": "stream",
     "text": [
      "<class 'pandas.core.frame.DataFrame'>\n",
      "Int64Index: 72421 entries, 17 to 188716\n",
      "Data columns (total 33 columns):\n",
      " #   Column             Non-Null Count  Dtype  \n",
      "---  ------             --------------  -----  \n",
      " 0   Unnamed: 0         72421 non-null  int64  \n",
      " 1   Time_Hour_TS       72421 non-null  object \n",
      " 2   Airline            72421 non-null  object \n",
      " 3   Flight_Number      72421 non-null  int64  \n",
      " 4   Tail_Number        72421 non-null  object \n",
      " 5   Departure_Time     72421 non-null  object \n",
      " 6   Departure_Delay    72421 non-null  float64\n",
      " 7   Arrival_Time       72421 non-null  object \n",
      " 8   Arrival_Delay      72421 non-null  float64\n",
      " 9   Origin             72421 non-null  object \n",
      " 10  Destination        72421 non-null  object \n",
      " 11  Flight_Distance    72421 non-null  int64  \n",
      " 12  Flight_Duration    72421 non-null  float64\n",
      " 13  Aircraft_Type      72421 non-null  object \n",
      " 14  Model              72421 non-null  object \n",
      " 15  Year_Manufactured  72421 non-null  float64\n",
      " 16  Manufacturer       72421 non-null  object \n",
      " 17  Number_of_Engines  72421 non-null  int64  \n",
      " 18  Engine_Type        72421 non-null  object \n",
      " 19  Seats              72421 non-null  int64  \n",
      " 20  Temperature        72421 non-null  float64\n",
      " 21  Humidity           72421 non-null  float64\n",
      " 22  Wind_Direction     72421 non-null  float64\n",
      " 23  Wind_Speed         72421 non-null  float64\n",
      " 24  Precipitation      72421 non-null  float64\n",
      " 25  Pressure           72421 non-null  float64\n",
      " 26  Visibility         72421 non-null  float64\n",
      " 27  Year               72421 non-null  int64  \n",
      " 28  Month              72421 non-null  int64  \n",
      " 29  Day                72421 non-null  int64  \n",
      " 30  Hour               72421 non-null  int64  \n",
      " 31  Time_Series        72421 non-null  object \n",
      " 32  Delay_Level        72421 non-null  int64  \n",
      "dtypes: float64(11), int64(10), object(12)\n",
      "memory usage: 18.8+ MB\n"
     ]
    }
   ],
   "source": [
    "rfcdf_downsampled.info()"
   ]
  },
  {
   "cell_type": "code",
   "execution_count": 124,
   "id": "peripheral-hundred",
   "metadata": {},
   "outputs": [
    {
     "data": {
      "text/plain": [
       "<AxesSubplot:xlabel='Delay_Level', ylabel='count'>"
      ]
     },
     "execution_count": 124,
     "metadata": {},
     "output_type": "execute_result"
    },
    {
     "data": {
      "image/png": "[encoded data removed]",
      "text/plain": [
       "<Figure size 432x288 with 1 Axes>"
      ]
     },
     "metadata": {},
     "output_type": "display_data"
    }
   ],
   "source": [
    "sb.countplot(x = \"Delay_Level\",data = rfcdf_downsampled)"
   ]
  },
  {
   "cell_type": "code",
   "execution_count": 125,
   "id": "streaming-brake",
   "metadata": {},
   "outputs": [
    {
     "name": "stdout",
     "output_type": "stream",
     "text": [
      "<class 'pandas.core.frame.DataFrame'>\n",
      "RangeIndex: 72421 entries, 0 to 72420\n",
      "Data columns (total 21 columns):\n",
      " #   Column                                      Non-Null Count  Dtype  \n",
      "---  ------                                      --------------  -----  \n",
      " 0   Origin_EWR                                  72421 non-null  float64\n",
      " 1   Origin_JFK                                  72421 non-null  float64\n",
      " 2   Origin_LGA                                  72421 non-null  float64\n",
      " 3   Engine_Type_Turbo-fan                       72421 non-null  float64\n",
      " 4   Engine_Type_Turbo-jet                       72421 non-null  float64\n",
      " 5   Manufacturer_AIRBUS INDUSTRIE               72421 non-null  float64\n",
      " 6   Manufacturer_BOEING                         72421 non-null  float64\n",
      " 7   Manufacturer_BOMBARDIER INC                 72421 non-null  float64\n",
      " 8   Manufacturer_CANADAIR                       72421 non-null  float64\n",
      " 9   Manufacturer_EMBRAER                        72421 non-null  float64\n",
      " 10  Manufacturer_MCDONNELL DOUGLAS CORPORATION  72421 non-null  float64\n",
      " 11  Airline_AirTran Airways Corporation         72421 non-null  float64\n",
      " 12  Airline_American Airlines Inc.              72421 non-null  float64\n",
      " 13  Airline_Delta Air Lines Inc.                72421 non-null  float64\n",
      " 14  Airline_Endeavor Air Inc.                   72421 non-null  float64\n",
      " 15  Airline_ExpressJet Airlines Inc.            72421 non-null  float64\n",
      " 16  Airline_JetBlue Airways                     72421 non-null  float64\n",
      " 17  Airline_Southwest Airlines Co.              72421 non-null  float64\n",
      " 18  Airline_US Airways Inc.                     72421 non-null  float64\n",
      " 19  Airline_United Air Lines Inc.               72421 non-null  float64\n",
      " 20  Airline_Virgin America                      72421 non-null  float64\n",
      "dtypes: float64(21)\n",
      "memory usage: 11.6 MB\n"
     ]
    },
    {
     "name": "stderr",
     "output_type": "stream",
     "text": [
      "/home/NIHALARY001/CZ1016/base/lib/python3.8/site-packages/sklearn/utils/deprecation.py:87: FutureWarning: Function get_feature_names is deprecated; get_feature_names is deprecated in 1.0 and will be removed in 1.2. Please use get_feature_names_out instead.\n",
      "  warnings.warn(msg, category=FutureWarning)\n"
     ]
    }
   ],
   "source": [
    "catvars = rfcdf_downsampled[[\"Origin\",\"Engine_Type\",\"Manufacturer\",\"Airline\"]]\n",
    "enc.fit(catvars)\n",
    "catvars_enc = pd.DataFrame(enc.transform(catvars).toarray(), \n",
    "                                  columns=enc.get_feature_names(catvars.columns))\n",
    "\n",
    "catvars_enc.info()"
   ]
  },
  {
   "cell_type": "code",
   "execution_count": 126,
   "id": "positive-chart",
   "metadata": {},
   "outputs": [
    {
     "data": {
      "text/html": [
       "<div>\n",
       "<style scoped>\n",
       "    .dataframe tbody tr th:only-of-type {\n",
       "        vertical-align: middle;\n",
       "    }\n",
       "\n",
       "    .dataframe tbody tr th {\n",
       "        vertical-align: top;\n",
       "    }\n",
       "\n",
       "    .dataframe thead th {\n",
       "        text-align: right;\n",
       "    }\n",
       "</style>\n",
       "<table border=\"1\" class=\"dataframe\">\n",
       "  <thead>\n",
       "    <tr style=\"text-align: right;\">\n",
       "      <th></th>\n",
       "      <th>Origin_EWR</th>\n",
       "      <th>Origin_JFK</th>\n",
       "      <th>Origin_LGA</th>\n",
       "      <th>Engine_Type_Turbo-fan</th>\n",
       "      <th>Engine_Type_Turbo-jet</th>\n",
       "      <th>Manufacturer_AIRBUS INDUSTRIE</th>\n",
       "      <th>Manufacturer_BOEING</th>\n",
       "      <th>Manufacturer_BOMBARDIER INC</th>\n",
       "      <th>Manufacturer_CANADAIR</th>\n",
       "      <th>Manufacturer_EMBRAER</th>\n",
       "      <th>...</th>\n",
       "      <th>Airline_AirTran Airways Corporation</th>\n",
       "      <th>Airline_American Airlines Inc.</th>\n",
       "      <th>Airline_Delta Air Lines Inc.</th>\n",
       "      <th>Airline_Endeavor Air Inc.</th>\n",
       "      <th>Airline_ExpressJet Airlines Inc.</th>\n",
       "      <th>Airline_JetBlue Airways</th>\n",
       "      <th>Airline_Southwest Airlines Co.</th>\n",
       "      <th>Airline_US Airways Inc.</th>\n",
       "      <th>Airline_United Air Lines Inc.</th>\n",
       "      <th>Airline_Virgin America</th>\n",
       "    </tr>\n",
       "  </thead>\n",
       "  <tbody>\n",
       "    <tr>\n",
       "      <th>0</th>\n",
       "      <td>1.0</td>\n",
       "      <td>0.0</td>\n",
       "      <td>0.0</td>\n",
       "      <td>1.0</td>\n",
       "      <td>0.0</td>\n",
       "      <td>0.0</td>\n",
       "      <td>1.0</td>\n",
       "      <td>0.0</td>\n",
       "      <td>0.0</td>\n",
       "      <td>0.0</td>\n",
       "      <td>...</td>\n",
       "      <td>0.0</td>\n",
       "      <td>0.0</td>\n",
       "      <td>0.0</td>\n",
       "      <td>0.0</td>\n",
       "      <td>0.0</td>\n",
       "      <td>0.0</td>\n",
       "      <td>0.0</td>\n",
       "      <td>0.0</td>\n",
       "      <td>1.0</td>\n",
       "      <td>0.0</td>\n",
       "    </tr>\n",
       "    <tr>\n",
       "      <th>1</th>\n",
       "      <td>1.0</td>\n",
       "      <td>0.0</td>\n",
       "      <td>0.0</td>\n",
       "      <td>1.0</td>\n",
       "      <td>0.0</td>\n",
       "      <td>0.0</td>\n",
       "      <td>0.0</td>\n",
       "      <td>0.0</td>\n",
       "      <td>0.0</td>\n",
       "      <td>1.0</td>\n",
       "      <td>...</td>\n",
       "      <td>0.0</td>\n",
       "      <td>0.0</td>\n",
       "      <td>0.0</td>\n",
       "      <td>0.0</td>\n",
       "      <td>1.0</td>\n",
       "      <td>0.0</td>\n",
       "      <td>0.0</td>\n",
       "      <td>0.0</td>\n",
       "      <td>0.0</td>\n",
       "      <td>0.0</td>\n",
       "    </tr>\n",
       "    <tr>\n",
       "      <th>2</th>\n",
       "      <td>1.0</td>\n",
       "      <td>0.0</td>\n",
       "      <td>0.0</td>\n",
       "      <td>0.0</td>\n",
       "      <td>1.0</td>\n",
       "      <td>0.0</td>\n",
       "      <td>1.0</td>\n",
       "      <td>0.0</td>\n",
       "      <td>0.0</td>\n",
       "      <td>0.0</td>\n",
       "      <td>...</td>\n",
       "      <td>0.0</td>\n",
       "      <td>0.0</td>\n",
       "      <td>0.0</td>\n",
       "      <td>0.0</td>\n",
       "      <td>0.0</td>\n",
       "      <td>0.0</td>\n",
       "      <td>0.0</td>\n",
       "      <td>0.0</td>\n",
       "      <td>1.0</td>\n",
       "      <td>0.0</td>\n",
       "    </tr>\n",
       "    <tr>\n",
       "      <th>3</th>\n",
       "      <td>1.0</td>\n",
       "      <td>0.0</td>\n",
       "      <td>0.0</td>\n",
       "      <td>0.0</td>\n",
       "      <td>1.0</td>\n",
       "      <td>0.0</td>\n",
       "      <td>1.0</td>\n",
       "      <td>0.0</td>\n",
       "      <td>0.0</td>\n",
       "      <td>0.0</td>\n",
       "      <td>...</td>\n",
       "      <td>0.0</td>\n",
       "      <td>0.0</td>\n",
       "      <td>0.0</td>\n",
       "      <td>0.0</td>\n",
       "      <td>0.0</td>\n",
       "      <td>0.0</td>\n",
       "      <td>0.0</td>\n",
       "      <td>0.0</td>\n",
       "      <td>1.0</td>\n",
       "      <td>0.0</td>\n",
       "    </tr>\n",
       "    <tr>\n",
       "      <th>4</th>\n",
       "      <td>0.0</td>\n",
       "      <td>1.0</td>\n",
       "      <td>0.0</td>\n",
       "      <td>1.0</td>\n",
       "      <td>0.0</td>\n",
       "      <td>0.0</td>\n",
       "      <td>1.0</td>\n",
       "      <td>0.0</td>\n",
       "      <td>0.0</td>\n",
       "      <td>0.0</td>\n",
       "      <td>...</td>\n",
       "      <td>0.0</td>\n",
       "      <td>0.0</td>\n",
       "      <td>1.0</td>\n",
       "      <td>0.0</td>\n",
       "      <td>0.0</td>\n",
       "      <td>0.0</td>\n",
       "      <td>0.0</td>\n",
       "      <td>0.0</td>\n",
       "      <td>0.0</td>\n",
       "      <td>0.0</td>\n",
       "    </tr>\n",
       "  </tbody>\n",
       "</table>\n",
       "<p>5 rows × 21 columns</p>\n",
       "</div>"
      ],
      "text/plain": [
       "   Origin_EWR  Origin_JFK  Origin_LGA  Engine_Type_Turbo-fan  \\\n",
       "0         1.0         0.0         0.0                    1.0   \n",
       "1         1.0         0.0         0.0                    1.0   \n",
       "2         1.0         0.0         0.0                    0.0   \n",
       "3         1.0         0.0         0.0                    0.0   \n",
       "4         0.0         1.0         0.0                    1.0   \n",
       "\n",
       "   Engine_Type_Turbo-jet  Manufacturer_AIRBUS INDUSTRIE  Manufacturer_BOEING  \\\n",
       "0                    0.0                            0.0                  1.0   \n",
       "1                    0.0                            0.0                  0.0   \n",
       "2                    1.0                            0.0                  1.0   \n",
       "3                    1.0                            0.0                  1.0   \n",
       "4                    0.0                            0.0                  1.0   \n",
       "\n",
       "   Manufacturer_BOMBARDIER INC  Manufacturer_CANADAIR  Manufacturer_EMBRAER  \\\n",
       "0                          0.0                    0.0                   0.0   \n",
       "1                          0.0                    0.0                   1.0   \n",
       "2                          0.0                    0.0                   0.0   \n",
       "3                          0.0                    0.0                   0.0   \n",
       "4                          0.0                    0.0                   0.0   \n",
       "\n",
       "   ...  Airline_AirTran Airways Corporation  Airline_American Airlines Inc.  \\\n",
       "0  ...                                  0.0                             0.0   \n",
       "1  ...                                  0.0                             0.0   \n",
       "2  ...                                  0.0                             0.0   \n",
       "3  ...                                  0.0                             0.0   \n",
       "4  ...                                  0.0                             0.0   \n",
       "\n",
       "   Airline_Delta Air Lines Inc.  Airline_Endeavor Air Inc.  \\\n",
       "0                           0.0                        0.0   \n",
       "1                           0.0                        0.0   \n",
       "2                           0.0                        0.0   \n",
       "3                           0.0                        0.0   \n",
       "4                           1.0                        0.0   \n",
       "\n",
       "   Airline_ExpressJet Airlines Inc.  Airline_JetBlue Airways  \\\n",
       "0                               0.0                      0.0   \n",
       "1                               1.0                      0.0   \n",
       "2                               0.0                      0.0   \n",
       "3                               0.0                      0.0   \n",
       "4                               0.0                      0.0   \n",
       "\n",
       "   Airline_Southwest Airlines Co.  Airline_US Airways Inc.  \\\n",
       "0                             0.0                      0.0   \n",
       "1                             0.0                      0.0   \n",
       "2                             0.0                      0.0   \n",
       "3                             0.0                      0.0   \n",
       "4                             0.0                      0.0   \n",
       "\n",
       "   Airline_United Air Lines Inc.  Airline_Virgin America  \n",
       "0                            1.0                     0.0  \n",
       "1                            0.0                     0.0  \n",
       "2                            1.0                     0.0  \n",
       "3                            1.0                     0.0  \n",
       "4                            0.0                     0.0  \n",
       "\n",
       "[5 rows x 21 columns]"
      ]
     },
     "execution_count": 126,
     "metadata": {},
     "output_type": "execute_result"
    }
   ],
   "source": [
    "catvars_enc.head()"
   ]
  },
  {
   "cell_type": "code",
   "execution_count": 127,
   "id": "random-bolivia",
   "metadata": {},
   "outputs": [],
   "source": [
    "numvars = rfcdf_downsampled[[\"Departure_Delay\",\"Delay_Level\",\"Number_of_Engines\",\n",
    "                             \"Seats\",\"Temperature\",\"Humidity\",\"Wind_Speed\",\n",
    "                             \"Pressure\",\"Visibility\",\"Hour\"]]"
   ]
  },
  {
   "cell_type": "code",
   "execution_count": 128,
   "id": "described-render",
   "metadata": {},
   "outputs": [
    {
     "name": "stdout",
     "output_type": "stream",
     "text": [
      "<class 'pandas.core.frame.DataFrame'>\n",
      "Int64Index: 72421 entries, 17 to 188716\n",
      "Data columns (total 10 columns):\n",
      " #   Column             Non-Null Count  Dtype  \n",
      "---  ------             --------------  -----  \n",
      " 0   Departure_Delay    72421 non-null  float64\n",
      " 1   Delay_Level        72421 non-null  int64  \n",
      " 2   Number_of_Engines  72421 non-null  int64  \n",
      " 3   Seats              72421 non-null  int64  \n",
      " 4   Temperature        72421 non-null  float64\n",
      " 5   Humidity           72421 non-null  float64\n",
      " 6   Wind_Speed         72421 non-null  float64\n",
      " 7   Pressure           72421 non-null  float64\n",
      " 8   Visibility         72421 non-null  float64\n",
      " 9   Hour               72421 non-null  int64  \n",
      "dtypes: float64(6), int64(4)\n",
      "memory usage: 8.1 MB\n"
     ]
    }
   ],
   "source": [
    "numvars.info()"
   ]
  },
  {
   "cell_type": "code",
   "execution_count": 134,
   "id": "vulnerable-profit",
   "metadata": {},
   "outputs": [
    {
     "name": "stdout",
     "output_type": "stream",
     "text": [
      "<class 'pandas.core.frame.DataFrame'>\n",
      "RangeIndex: 72421 entries, 0 to 72420\n",
      "Data columns (total 11 columns):\n",
      " #   Column             Non-Null Count  Dtype   \n",
      "---  ------             --------------  -----   \n",
      " 0   index              72421 non-null  int64   \n",
      " 1   Departure_Delay    72421 non-null  float64 \n",
      " 2   Delay_Level        72421 non-null  category\n",
      " 3   Number_of_Engines  72421 non-null  int64   \n",
      " 4   Seats              72421 non-null  int64   \n",
      " 5   Temperature        72421 non-null  float64 \n",
      " 6   Humidity           72421 non-null  float64 \n",
      " 7   Wind_Speed         72421 non-null  float64 \n",
      " 8   Pressure           72421 non-null  float64 \n",
      " 9   Visibility         72421 non-null  float64 \n",
      " 10  Hour               72421 non-null  int64   \n",
      "dtypes: category(1), float64(6), int64(4)\n",
      "memory usage: 5.6 MB\n"
     ]
    }
   ],
   "source": [
    "numvars = numvars.reset_index()\n",
    "numvars.info()"
   ]
  },
  {
   "cell_type": "code",
   "execution_count": 135,
   "id": "reduced-assurance",
   "metadata": {},
   "outputs": [
    {
     "data": {
      "text/html": [
       "<div>\n",
       "<style scoped>\n",
       "    .dataframe tbody tr th:only-of-type {\n",
       "        vertical-align: middle;\n",
       "    }\n",
       "\n",
       "    .dataframe tbody tr th {\n",
       "        vertical-align: top;\n",
       "    }\n",
       "\n",
       "    .dataframe thead th {\n",
       "        text-align: right;\n",
       "    }\n",
       "</style>\n",
       "<table border=\"1\" class=\"dataframe\">\n",
       "  <thead>\n",
       "    <tr style=\"text-align: right;\">\n",
       "      <th></th>\n",
       "      <th>index</th>\n",
       "      <th>Departure_Delay</th>\n",
       "      <th>Delay_Level</th>\n",
       "      <th>Number_of_Engines</th>\n",
       "      <th>Seats</th>\n",
       "      <th>Temperature</th>\n",
       "      <th>Humidity</th>\n",
       "      <th>Wind_Speed</th>\n",
       "      <th>Pressure</th>\n",
       "      <th>Visibility</th>\n",
       "      <th>Hour</th>\n",
       "    </tr>\n",
       "  </thead>\n",
       "  <tbody>\n",
       "    <tr>\n",
       "      <th>0</th>\n",
       "      <td>17</td>\n",
       "      <td>47.0</td>\n",
       "      <td>2</td>\n",
       "      <td>2</td>\n",
       "      <td>191</td>\n",
       "      <td>37.94</td>\n",
       "      <td>67.21</td>\n",
       "      <td>11.50780</td>\n",
       "      <td>1012.4</td>\n",
       "      <td>10.0</td>\n",
       "      <td>6</td>\n",
       "    </tr>\n",
       "    <tr>\n",
       "      <th>1</th>\n",
       "      <td>22</td>\n",
       "      <td>24.0</td>\n",
       "      <td>1</td>\n",
       "      <td>2</td>\n",
       "      <td>55</td>\n",
       "      <td>37.94</td>\n",
       "      <td>67.21</td>\n",
       "      <td>11.50780</td>\n",
       "      <td>1012.4</td>\n",
       "      <td>10.0</td>\n",
       "      <td>6</td>\n",
       "    </tr>\n",
       "    <tr>\n",
       "      <th>2</th>\n",
       "      <td>49</td>\n",
       "      <td>144.0</td>\n",
       "      <td>2</td>\n",
       "      <td>2</td>\n",
       "      <td>178</td>\n",
       "      <td>39.02</td>\n",
       "      <td>64.43</td>\n",
       "      <td>14.96014</td>\n",
       "      <td>1012.2</td>\n",
       "      <td>10.0</td>\n",
       "      <td>7</td>\n",
       "    </tr>\n",
       "    <tr>\n",
       "      <th>3</th>\n",
       "      <td>81</td>\n",
       "      <td>23.0</td>\n",
       "      <td>1</td>\n",
       "      <td>2</td>\n",
       "      <td>178</td>\n",
       "      <td>39.92</td>\n",
       "      <td>62.21</td>\n",
       "      <td>10.35702</td>\n",
       "      <td>1012.2</td>\n",
       "      <td>10.0</td>\n",
       "      <td>8</td>\n",
       "    </tr>\n",
       "    <tr>\n",
       "      <th>4</th>\n",
       "      <td>122</td>\n",
       "      <td>21.0</td>\n",
       "      <td>1</td>\n",
       "      <td>2</td>\n",
       "      <td>178</td>\n",
       "      <td>39.92</td>\n",
       "      <td>59.50</td>\n",
       "      <td>16.11092</td>\n",
       "      <td>1013.0</td>\n",
       "      <td>10.0</td>\n",
       "      <td>9</td>\n",
       "    </tr>\n",
       "  </tbody>\n",
       "</table>\n",
       "</div>"
      ],
      "text/plain": [
       "   index  Departure_Delay Delay_Level  Number_of_Engines  Seats  Temperature  \\\n",
       "0     17             47.0           2                  2    191        37.94   \n",
       "1     22             24.0           1                  2     55        37.94   \n",
       "2     49            144.0           2                  2    178        39.02   \n",
       "3     81             23.0           1                  2    178        39.92   \n",
       "4    122             21.0           1                  2    178        39.92   \n",
       "\n",
       "   Humidity  Wind_Speed  Pressure  Visibility  Hour  \n",
       "0     67.21    11.50780    1012.4        10.0     6  \n",
       "1     67.21    11.50780    1012.4        10.0     6  \n",
       "2     64.43    14.96014    1012.2        10.0     7  \n",
       "3     62.21    10.35702    1012.2        10.0     8  \n",
       "4     59.50    16.11092    1013.0        10.0     9  "
      ]
     },
     "execution_count": 135,
     "metadata": {},
     "output_type": "execute_result"
    }
   ],
   "source": [
    "numvars.head()"
   ]
  },
  {
   "cell_type": "code",
   "execution_count": 136,
   "id": "major-particular",
   "metadata": {},
   "outputs": [],
   "source": [
    "numvars[\"Delay_Level\"] = numvars[\"Delay_Level\"].astype(\"category\")"
   ]
  },
  {
   "cell_type": "code",
   "execution_count": 137,
   "id": "transparent-maria",
   "metadata": {},
   "outputs": [
    {
     "name": "stdout",
     "output_type": "stream",
     "text": [
      "<class 'pandas.core.frame.DataFrame'>\n",
      "RangeIndex: 72421 entries, 0 to 72420\n",
      "Data columns (total 11 columns):\n",
      " #   Column             Non-Null Count  Dtype   \n",
      "---  ------             --------------  -----   \n",
      " 0   index              72421 non-null  int64   \n",
      " 1   Departure_Delay    72421 non-null  float64 \n",
      " 2   Delay_Level        72421 non-null  category\n",
      " 3   Number_of_Engines  72421 non-null  int64   \n",
      " 4   Seats              72421 non-null  int64   \n",
      " 5   Temperature        72421 non-null  float64 \n",
      " 6   Humidity           72421 non-null  float64 \n",
      " 7   Wind_Speed         72421 non-null  float64 \n",
      " 8   Pressure           72421 non-null  float64 \n",
      " 9   Visibility         72421 non-null  float64 \n",
      " 10  Hour               72421 non-null  int64   \n",
      "dtypes: category(1), float64(6), int64(4)\n",
      "memory usage: 5.6 MB\n"
     ]
    }
   ],
   "source": [
    "numvars.info()"
   ]
  },
  {
   "cell_type": "markdown",
   "id": "measured-array",
   "metadata": {},
   "source": [
    "We one hot encoded our chosen categorical variables, joined it with our chosen numeric variables into a dataframe."
   ]
  },
  {
   "cell_type": "code",
   "execution_count": 138,
   "id": "choice-truck",
   "metadata": {},
   "outputs": [],
   "source": [
    "finaldf = pd.concat([catvars_enc, numvars], axis = 1).reindex(index=numvars.index)"
   ]
  },
  {
   "cell_type": "code",
   "execution_count": 139,
   "id": "friendly-brisbane",
   "metadata": {},
   "outputs": [
    {
     "name": "stdout",
     "output_type": "stream",
     "text": [
      "<class 'pandas.core.frame.DataFrame'>\n",
      "RangeIndex: 72421 entries, 0 to 72420\n",
      "Data columns (total 32 columns):\n",
      " #   Column                                      Non-Null Count  Dtype   \n",
      "---  ------                                      --------------  -----   \n",
      " 0   Origin_EWR                                  72421 non-null  float64 \n",
      " 1   Origin_JFK                                  72421 non-null  float64 \n",
      " 2   Origin_LGA                                  72421 non-null  float64 \n",
      " 3   Engine_Type_Turbo-fan                       72421 non-null  float64 \n",
      " 4   Engine_Type_Turbo-jet                       72421 non-null  float64 \n",
      " 5   Manufacturer_AIRBUS INDUSTRIE               72421 non-null  float64 \n",
      " 6   Manufacturer_BOEING                         72421 non-null  float64 \n",
      " 7   Manufacturer_BOMBARDIER INC                 72421 non-null  float64 \n",
      " 8   Manufacturer_CANADAIR                       72421 non-null  float64 \n",
      " 9   Manufacturer_EMBRAER                        72421 non-null  float64 \n",
      " 10  Manufacturer_MCDONNELL DOUGLAS CORPORATION  72421 non-null  float64 \n",
      " 11  Airline_AirTran Airways Corporation         72421 non-null  float64 \n",
      " 12  Airline_American Airlines Inc.              72421 non-null  float64 \n",
      " 13  Airline_Delta Air Lines Inc.                72421 non-null  float64 \n",
      " 14  Airline_Endeavor Air Inc.                   72421 non-null  float64 \n",
      " 15  Airline_ExpressJet Airlines Inc.            72421 non-null  float64 \n",
      " 16  Airline_JetBlue Airways                     72421 non-null  float64 \n",
      " 17  Airline_Southwest Airlines Co.              72421 non-null  float64 \n",
      " 18  Airline_US Airways Inc.                     72421 non-null  float64 \n",
      " 19  Airline_United Air Lines Inc.               72421 non-null  float64 \n",
      " 20  Airline_Virgin America                      72421 non-null  float64 \n",
      " 21  index                                       72421 non-null  int64   \n",
      " 22  Departure_Delay                             72421 non-null  float64 \n",
      " 23  Delay_Level                                 72421 non-null  category\n",
      " 24  Number_of_Engines                           72421 non-null  int64   \n",
      " 25  Seats                                       72421 non-null  int64   \n",
      " 26  Temperature                                 72421 non-null  float64 \n",
      " 27  Humidity                                    72421 non-null  float64 \n",
      " 28  Wind_Speed                                  72421 non-null  float64 \n",
      " 29  Pressure                                    72421 non-null  float64 \n",
      " 30  Visibility                                  72421 non-null  float64 \n",
      " 31  Hour                                        72421 non-null  int64   \n",
      "dtypes: category(1), float64(27), int64(4)\n",
      "memory usage: 17.2 MB\n"
     ]
    }
   ],
   "source": [
    "finaldf.info()"
   ]
  },
  {
   "cell_type": "code",
   "execution_count": 143,
   "id": "presidential-tower",
   "metadata": {},
   "outputs": [],
   "source": [
    "finaldf.drop(['index'], axis=1, inplace=True)"
   ]
  },
  {
   "cell_type": "code",
   "execution_count": 144,
   "id": "valuable-burner",
   "metadata": {},
   "outputs": [
    {
     "data": {
      "text/html": [
       "<div>\n",
       "<style scoped>\n",
       "    .dataframe tbody tr th:only-of-type {\n",
       "        vertical-align: middle;\n",
       "    }\n",
       "\n",
       "    .dataframe tbody tr th {\n",
       "        vertical-align: top;\n",
       "    }\n",
       "\n",
       "    .dataframe thead th {\n",
       "        text-align: right;\n",
       "    }\n",
       "</style>\n",
       "<table border=\"1\" class=\"dataframe\">\n",
       "  <thead>\n",
       "    <tr style=\"text-align: right;\">\n",
       "      <th></th>\n",
       "      <th>Origin_EWR</th>\n",
       "      <th>Origin_JFK</th>\n",
       "      <th>Origin_LGA</th>\n",
       "      <th>Engine_Type_Turbo-fan</th>\n",
       "      <th>Engine_Type_Turbo-jet</th>\n",
       "      <th>Manufacturer_AIRBUS INDUSTRIE</th>\n",
       "      <th>Manufacturer_BOEING</th>\n",
       "      <th>Manufacturer_BOMBARDIER INC</th>\n",
       "      <th>Manufacturer_CANADAIR</th>\n",
       "      <th>Manufacturer_EMBRAER</th>\n",
       "      <th>...</th>\n",
       "      <th>Departure_Delay</th>\n",
       "      <th>Delay_Level</th>\n",
       "      <th>Number_of_Engines</th>\n",
       "      <th>Seats</th>\n",
       "      <th>Temperature</th>\n",
       "      <th>Humidity</th>\n",
       "      <th>Wind_Speed</th>\n",
       "      <th>Pressure</th>\n",
       "      <th>Visibility</th>\n",
       "      <th>Hour</th>\n",
       "    </tr>\n",
       "  </thead>\n",
       "  <tbody>\n",
       "    <tr>\n",
       "      <th>0</th>\n",
       "      <td>1.0</td>\n",
       "      <td>0.0</td>\n",
       "      <td>0.0</td>\n",
       "      <td>1.0</td>\n",
       "      <td>0.0</td>\n",
       "      <td>0.0</td>\n",
       "      <td>1.0</td>\n",
       "      <td>0.0</td>\n",
       "      <td>0.0</td>\n",
       "      <td>0.0</td>\n",
       "      <td>...</td>\n",
       "      <td>47.0</td>\n",
       "      <td>2</td>\n",
       "      <td>2</td>\n",
       "      <td>191</td>\n",
       "      <td>37.94</td>\n",
       "      <td>67.21</td>\n",
       "      <td>11.50780</td>\n",
       "      <td>1012.4</td>\n",
       "      <td>10.0</td>\n",
       "      <td>6</td>\n",
       "    </tr>\n",
       "    <tr>\n",
       "      <th>1</th>\n",
       "      <td>1.0</td>\n",
       "      <td>0.0</td>\n",
       "      <td>0.0</td>\n",
       "      <td>1.0</td>\n",
       "      <td>0.0</td>\n",
       "      <td>0.0</td>\n",
       "      <td>0.0</td>\n",
       "      <td>0.0</td>\n",
       "      <td>0.0</td>\n",
       "      <td>1.0</td>\n",
       "      <td>...</td>\n",
       "      <td>24.0</td>\n",
       "      <td>1</td>\n",
       "      <td>2</td>\n",
       "      <td>55</td>\n",
       "      <td>37.94</td>\n",
       "      <td>67.21</td>\n",
       "      <td>11.50780</td>\n",
       "      <td>1012.4</td>\n",
       "      <td>10.0</td>\n",
       "      <td>6</td>\n",
       "    </tr>\n",
       "    <tr>\n",
       "      <th>2</th>\n",
       "      <td>1.0</td>\n",
       "      <td>0.0</td>\n",
       "      <td>0.0</td>\n",
       "      <td>0.0</td>\n",
       "      <td>1.0</td>\n",
       "      <td>0.0</td>\n",
       "      <td>1.0</td>\n",
       "      <td>0.0</td>\n",
       "      <td>0.0</td>\n",
       "      <td>0.0</td>\n",
       "      <td>...</td>\n",
       "      <td>144.0</td>\n",
       "      <td>2</td>\n",
       "      <td>2</td>\n",
       "      <td>178</td>\n",
       "      <td>39.02</td>\n",
       "      <td>64.43</td>\n",
       "      <td>14.96014</td>\n",
       "      <td>1012.2</td>\n",
       "      <td>10.0</td>\n",
       "      <td>7</td>\n",
       "    </tr>\n",
       "    <tr>\n",
       "      <th>3</th>\n",
       "      <td>1.0</td>\n",
       "      <td>0.0</td>\n",
       "      <td>0.0</td>\n",
       "      <td>0.0</td>\n",
       "      <td>1.0</td>\n",
       "      <td>0.0</td>\n",
       "      <td>1.0</td>\n",
       "      <td>0.0</td>\n",
       "      <td>0.0</td>\n",
       "      <td>0.0</td>\n",
       "      <td>...</td>\n",
       "      <td>23.0</td>\n",
       "      <td>1</td>\n",
       "      <td>2</td>\n",
       "      <td>178</td>\n",
       "      <td>39.92</td>\n",
       "      <td>62.21</td>\n",
       "      <td>10.35702</td>\n",
       "      <td>1012.2</td>\n",
       "      <td>10.0</td>\n",
       "      <td>8</td>\n",
       "    </tr>\n",
       "    <tr>\n",
       "      <th>4</th>\n",
       "      <td>0.0</td>\n",
       "      <td>1.0</td>\n",
       "      <td>0.0</td>\n",
       "      <td>1.0</td>\n",
       "      <td>0.0</td>\n",
       "      <td>0.0</td>\n",
       "      <td>1.0</td>\n",
       "      <td>0.0</td>\n",
       "      <td>0.0</td>\n",
       "      <td>0.0</td>\n",
       "      <td>...</td>\n",
       "      <td>21.0</td>\n",
       "      <td>1</td>\n",
       "      <td>2</td>\n",
       "      <td>178</td>\n",
       "      <td>39.92</td>\n",
       "      <td>59.50</td>\n",
       "      <td>16.11092</td>\n",
       "      <td>1013.0</td>\n",
       "      <td>10.0</td>\n",
       "      <td>9</td>\n",
       "    </tr>\n",
       "  </tbody>\n",
       "</table>\n",
       "<p>5 rows × 31 columns</p>\n",
       "</div>"
      ],
      "text/plain": [
       "   Origin_EWR  Origin_JFK  Origin_LGA  Engine_Type_Turbo-fan  \\\n",
       "0         1.0         0.0         0.0                    1.0   \n",
       "1         1.0         0.0         0.0                    1.0   \n",
       "2         1.0         0.0         0.0                    0.0   \n",
       "3         1.0         0.0         0.0                    0.0   \n",
       "4         0.0         1.0         0.0                    1.0   \n",
       "\n",
       "   Engine_Type_Turbo-jet  Manufacturer_AIRBUS INDUSTRIE  Manufacturer_BOEING  \\\n",
       "0                    0.0                            0.0                  1.0   \n",
       "1                    0.0                            0.0                  0.0   \n",
       "2                    1.0                            0.0                  1.0   \n",
       "3                    1.0                            0.0                  1.0   \n",
       "4                    0.0                            0.0                  1.0   \n",
       "\n",
       "   Manufacturer_BOMBARDIER INC  Manufacturer_CANADAIR  Manufacturer_EMBRAER  \\\n",
       "0                          0.0                    0.0                   0.0   \n",
       "1                          0.0                    0.0                   1.0   \n",
       "2                          0.0                    0.0                   0.0   \n",
       "3                          0.0                    0.0                   0.0   \n",
       "4                          0.0                    0.0                   0.0   \n",
       "\n",
       "   ...  Departure_Delay  Delay_Level  Number_of_Engines  Seats  Temperature  \\\n",
       "0  ...             47.0            2                  2    191        37.94   \n",
       "1  ...             24.0            1                  2     55        37.94   \n",
       "2  ...            144.0            2                  2    178        39.02   \n",
       "3  ...             23.0            1                  2    178        39.92   \n",
       "4  ...             21.0            1                  2    178        39.92   \n",
       "\n",
       "   Humidity  Wind_Speed  Pressure  Visibility  Hour  \n",
       "0     67.21    11.50780    1012.4        10.0     6  \n",
       "1     67.21    11.50780    1012.4        10.0     6  \n",
       "2     64.43    14.96014    1012.2        10.0     7  \n",
       "3     62.21    10.35702    1012.2        10.0     8  \n",
       "4     59.50    16.11092    1013.0        10.0     9  \n",
       "\n",
       "[5 rows x 31 columns]"
      ]
     },
     "execution_count": 144,
     "metadata": {},
     "output_type": "execute_result"
    }
   ],
   "source": [
    "finaldf.head()"
   ]
  },
  {
   "cell_type": "markdown",
   "id": "executed-special",
   "metadata": {},
   "source": [
    "### Random Forest Classifier"
   ]
  },
  {
   "cell_type": "markdown",
   "id": "logical-spanking",
   "metadata": {},
   "source": [
    "We first pass our data into the model and check our results"
   ]
  },
  {
   "cell_type": "code",
   "execution_count": 145,
   "id": "essential-salvation",
   "metadata": {},
   "outputs": [],
   "source": [
    "from sklearn.model_selection import train_test_split\n",
    "y = pd.DataFrame(finaldf[\"Delay_Level\"])\n",
    "X = pd.DataFrame(finaldf.drop([\"Delay_Level\",\"Departure_Delay\"], axis = 1))\n",
    "\n",
    "X_train, X_test, y_train, y_test = train_test_split(X, y, test_size = 0.25,random_state =200)"
   ]
  },
  {
   "cell_type": "code",
   "execution_count": 146,
   "id": "occasional-extraction",
   "metadata": {},
   "outputs": [
    {
     "data": {
      "text/html": [
       "<style>#sk-container-id-5 {color: black;background-color: white;}#sk-container-id-5 pre{padding: 0;}#sk-container-id-5 div.sk-toggleable {background-color: white;}#sk-container-id-5 label.sk-toggleable__label {cursor: pointer;display: block;width: 100%;margin-bottom: 0;padding: 0.3em;box-sizing: border-box;text-align: center;}#sk-container-id-5 label.sk-toggleable__label-arrow:before {content: \"▸\";float: left;margin-right: 0.25em;color: #696969;}#sk-container-id-5 label.sk-toggleable__label-arrow:hover:before {color: black;}#sk-container-id-5 div.sk-estimator:hover label.sk-toggleable__label-arrow:before {color: black;}#sk-container-id-5 div.sk-toggleable__content {max-height: 0;max-width: 0;overflow: hidden;text-align: left;background-color: #f0f8ff;}#sk-container-id-5 div.sk-toggleable__content pre {margin: 0.2em;color: black;border-radius: 0.25em;background-color: #f0f8ff;}#sk-container-id-5 input.sk-toggleable__control:checked~div.sk-toggleable__content {max-height: 200px;max-width: 100%;overflow: auto;}#sk-container-id-5 input.sk-toggleable__control:checked~label.sk-toggleable__label-arrow:before {content: \"▾\";}#sk-container-id-5 div.sk-estimator input.sk-toggleable__control:checked~label.sk-toggleable__label {background-color: #d4ebff;}#sk-container-id-5 div.sk-label input.sk-toggleable__control:checked~label.sk-toggleable__label {background-color: #d4ebff;}#sk-container-id-5 input.sk-hidden--visually {border: 0;clip: rect(1px 1px 1px 1px);clip: rect(1px, 1px, 1px, 1px);height: 1px;margin: -1px;overflow: hidden;padding: 0;position: absolute;width: 1px;}#sk-container-id-5 div.sk-estimator {font-family: monospace;background-color: #f0f8ff;border: 1px dotted black;border-radius: 0.25em;box-sizing: border-box;margin-bottom: 0.5em;}#sk-container-id-5 div.sk-estimator:hover {background-color: #d4ebff;}#sk-container-id-5 div.sk-parallel-item::after {content: \"\";width: 100%;border-bottom: 1px solid gray;flex-grow: 1;}#sk-container-id-5 div.sk-label:hover label.sk-toggleable__label {background-color: #d4ebff;}#sk-container-id-5 div.sk-serial::before {content: \"\";position: absolute;border-left: 1px solid gray;box-sizing: border-box;top: 0;bottom: 0;left: 50%;z-index: 0;}#sk-container-id-5 div.sk-serial {display: flex;flex-direction: column;align-items: center;background-color: white;padding-right: 0.2em;padding-left: 0.2em;position: relative;}#sk-container-id-5 div.sk-item {position: relative;z-index: 1;}#sk-container-id-5 div.sk-parallel {display: flex;align-items: stretch;justify-content: center;background-color: white;position: relative;}#sk-container-id-5 div.sk-item::before, #sk-container-id-5 div.sk-parallel-item::before {content: \"\";position: absolute;border-left: 1px solid gray;box-sizing: border-box;top: 0;bottom: 0;left: 50%;z-index: -1;}#sk-container-id-5 div.sk-parallel-item {display: flex;flex-direction: column;z-index: 1;position: relative;background-color: white;}#sk-container-id-5 div.sk-parallel-item:first-child::after {align-self: flex-end;width: 50%;}#sk-container-id-5 div.sk-parallel-item:last-child::after {align-self: flex-start;width: 50%;}#sk-container-id-5 div.sk-parallel-item:only-child::after {width: 0;}#sk-container-id-5 div.sk-dashed-wrapped {border: 1px dashed gray;margin: 0 0.4em 0.5em 0.4em;box-sizing: border-box;padding-bottom: 0.4em;background-color: white;}#sk-container-id-5 div.sk-label label {font-family: monospace;font-weight: bold;display: inline-block;line-height: 1.2em;}#sk-container-id-5 div.sk-label-container {text-align: center;}#sk-container-id-5 div.sk-container {/* jupyter's `normalize.less` sets `[hidden] { display: none; }` but bootstrap.min.css set `[hidden] { display: none !important; }` so we also need the `!important` here to be able to override the default hidden behavior on the sphinx rendered scikit-learn.org. See: https://github.com/scikit-learn/scikit-learn/issues/21755 */display: inline-block !important;position: relative;}#sk-container-id-5 div.sk-text-repr-fallback {display: none;}</style><div id=\"sk-container-id-5\" class=\"sk-top-container\"><div class=\"sk-text-repr-fallback\"><pre>RandomForestClassifier(max_depth=9, n_estimators=200)</pre><b>In a Jupyter environment, please rerun this cell to show the HTML representation or trust the notebook. <br />On GitHub, the HTML representation is unable to render, please try loading this page with nbviewer.org.</b></div><div class=\"sk-container\" hidden><div class=\"sk-item\"><div class=\"sk-estimator sk-toggleable\"><input class=\"sk-toggleable__control sk-hidden--visually\" id=\"sk-estimator-id-5\" type=\"checkbox\" checked><label for=\"sk-estimator-id-5\" class=\"sk-toggleable__label sk-toggleable__label-arrow\">RandomForestClassifier</label><div class=\"sk-toggleable__content\"><pre>RandomForestClassifier(max_depth=9, n_estimators=200)</pre></div></div></div></div></div>"
      ],
      "text/plain": [
       "RandomForestClassifier(max_depth=9, n_estimators=200)"
      ]
     },
     "execution_count": 146,
     "metadata": {},
     "output_type": "execute_result"
    }
   ],
   "source": [
    "from sklearn.ensemble import RandomForestClassifier\n",
    "\n",
    "rfc = RandomForestClassifier(n_estimators = 200, max_depth = 9)     \n",
    "\n",
    "rfc.fit(X_train, y_train.Delay_Level.ravel())"
   ]
  },
  {
   "cell_type": "code",
   "execution_count": 147,
   "id": "muslim-franchise",
   "metadata": {},
   "outputs": [
    {
     "name": "stdout",
     "output_type": "stream",
     "text": [
      "Train Dataset\n",
      "Accuracy  :\t 0.5293012979839823\n",
      "\n"
     ]
    },
    {
     "data": {
      "text/plain": [
       "<AxesSubplot:>"
      ]
     },
     "execution_count": 147,
     "metadata": {},
     "output_type": "execute_result"
    },
    {
     "data": {
      "image/png": "[encoded data removed]",
      "text/plain": [
       "<Figure size 432x288 with 2 Axes>"
      ]
     },
     "metadata": {},
     "output_type": "display_data"
    }
   ],
   "source": [
    "from sklearn.metrics import confusion_matrix\n",
    "\n",
    "y_train_pred = rfc.predict(X_train)\n",
    "\n",
    "print(\"Train Dataset\")\n",
    "print(\"Accuracy  :\\t\", rfc.score(X_train, y_train))\n",
    "print()\n",
    "sb.heatmap(confusion_matrix(y_train, y_train_pred), annot = True, fmt=\".0f\", annot_kws={\"size\": 24},cmap=\"viridis\")"
   ]
  },
  {
   "cell_type": "code",
   "execution_count": 148,
   "id": "sufficient-motel",
   "metadata": {},
   "outputs": [
    {
     "name": "stdout",
     "output_type": "stream",
     "text": [
      "Test Dataset\n",
      "Accuracy  :\t 0.48851209543797636\n",
      "\n"
     ]
    },
    {
     "data": {
      "text/plain": [
       "<AxesSubplot:>"
      ]
     },
     "execution_count": 148,
     "metadata": {},
     "output_type": "execute_result"
    },
    {
     "data": {
      "image/png": "[encoded data removed]",
      "text/plain": [
       "<Figure size 432x288 with 2 Axes>"
      ]
     },
     "metadata": {},
     "output_type": "display_data"
    }
   ],
   "source": [
    "y_test_pred = rfc.predict(X_test)\n",
    "\n",
    "print(\"Test Dataset\")\n",
    "print(\"Accuracy  :\\t\", rfc.score(X_test, y_test))\n",
    "print()\n",
    "sb.heatmap(confusion_matrix(y_test, y_test_pred), annot = True, fmt=\".0f\", annot_kws={\"size\": 24},cmap =\"BuPu\")"
   ]
  },
  {
   "cell_type": "markdown",
   "id": "following-contemporary",
   "metadata": {},
   "source": [
    "We used grid search to find the best set of parameters"
   ]
  },
  {
   "cell_type": "code",
   "execution_count": 149,
   "id": "closed-archive",
   "metadata": {},
   "outputs": [
    {
     "data": {
      "text/html": [
       "<style>#sk-container-id-6 {color: black;background-color: white;}#sk-container-id-6 pre{padding: 0;}#sk-container-id-6 div.sk-toggleable {background-color: white;}#sk-container-id-6 label.sk-toggleable__label {cursor: pointer;display: block;width: 100%;margin-bottom: 0;padding: 0.3em;box-sizing: border-box;text-align: center;}#sk-container-id-6 label.sk-toggleable__label-arrow:before {content: \"▸\";float: left;margin-right: 0.25em;color: #696969;}#sk-container-id-6 label.sk-toggleable__label-arrow:hover:before {color: black;}#sk-container-id-6 div.sk-estimator:hover label.sk-toggleable__label-arrow:before {color: black;}#sk-container-id-6 div.sk-toggleable__content {max-height: 0;max-width: 0;overflow: hidden;text-align: left;background-color: #f0f8ff;}#sk-container-id-6 div.sk-toggleable__content pre {margin: 0.2em;color: black;border-radius: 0.25em;background-color: #f0f8ff;}#sk-container-id-6 input.sk-toggleable__control:checked~div.sk-toggleable__content {max-height: 200px;max-width: 100%;overflow: auto;}#sk-container-id-6 input.sk-toggleable__control:checked~label.sk-toggleable__label-arrow:before {content: \"▾\";}#sk-container-id-6 div.sk-estimator input.sk-toggleable__control:checked~label.sk-toggleable__label {background-color: #d4ebff;}#sk-container-id-6 div.sk-label input.sk-toggleable__control:checked~label.sk-toggleable__label {background-color: #d4ebff;}#sk-container-id-6 input.sk-hidden--visually {border: 0;clip: rect(1px 1px 1px 1px);clip: rect(1px, 1px, 1px, 1px);height: 1px;margin: -1px;overflow: hidden;padding: 0;position: absolute;width: 1px;}#sk-container-id-6 div.sk-estimator {font-family: monospace;background-color: #f0f8ff;border: 1px dotted black;border-radius: 0.25em;box-sizing: border-box;margin-bottom: 0.5em;}#sk-container-id-6 div.sk-estimator:hover {background-color: #d4ebff;}#sk-container-id-6 div.sk-parallel-item::after {content: \"\";width: 100%;border-bottom: 1px solid gray;flex-grow: 1;}#sk-container-id-6 div.sk-label:hover label.sk-toggleable__label {background-color: #d4ebff;}#sk-container-id-6 div.sk-serial::before {content: \"\";position: absolute;border-left: 1px solid gray;box-sizing: border-box;top: 0;bottom: 0;left: 50%;z-index: 0;}#sk-container-id-6 div.sk-serial {display: flex;flex-direction: column;align-items: center;background-color: white;padding-right: 0.2em;padding-left: 0.2em;position: relative;}#sk-container-id-6 div.sk-item {position: relative;z-index: 1;}#sk-container-id-6 div.sk-parallel {display: flex;align-items: stretch;justify-content: center;background-color: white;position: relative;}#sk-container-id-6 div.sk-item::before, #sk-container-id-6 div.sk-parallel-item::before {content: \"\";position: absolute;border-left: 1px solid gray;box-sizing: border-box;top: 0;bottom: 0;left: 50%;z-index: -1;}#sk-container-id-6 div.sk-parallel-item {display: flex;flex-direction: column;z-index: 1;position: relative;background-color: white;}#sk-container-id-6 div.sk-parallel-item:first-child::after {align-self: flex-end;width: 50%;}#sk-container-id-6 div.sk-parallel-item:last-child::after {align-self: flex-start;width: 50%;}#sk-container-id-6 div.sk-parallel-item:only-child::after {width: 0;}#sk-container-id-6 div.sk-dashed-wrapped {border: 1px dashed gray;margin: 0 0.4em 0.5em 0.4em;box-sizing: border-box;padding-bottom: 0.4em;background-color: white;}#sk-container-id-6 div.sk-label label {font-family: monospace;font-weight: bold;display: inline-block;line-height: 1.2em;}#sk-container-id-6 div.sk-label-container {text-align: center;}#sk-container-id-6 div.sk-container {/* jupyter's `normalize.less` sets `[hidden] { display: none; }` but bootstrap.min.css set `[hidden] { display: none !important; }` so we also need the `!important` here to be able to override the default hidden behavior on the sphinx rendered scikit-learn.org. See: https://github.com/scikit-learn/scikit-learn/issues/21755 */display: inline-block !important;position: relative;}#sk-container-id-6 div.sk-text-repr-fallback {display: none;}</style><div id=\"sk-container-id-6\" class=\"sk-top-container\"><div class=\"sk-text-repr-fallback\"><pre>GridSearchCV(cv=5, estimator=RandomForestClassifier(), n_jobs=-1,\n",
       "             param_grid={&#x27;max_depth&#x27;: array([ 2,  3,  4,  5,  6,  7,  8,  9, 10]),\n",
       "                         &#x27;n_estimators&#x27;: array([100, 200, 300, 400, 500])},\n",
       "             scoring=&#x27;accuracy&#x27;)</pre><b>In a Jupyter environment, please rerun this cell to show the HTML representation or trust the notebook. <br />On GitHub, the HTML representation is unable to render, please try loading this page with nbviewer.org.</b></div><div class=\"sk-container\" hidden><div class=\"sk-item sk-dashed-wrapped\"><div class=\"sk-label-container\"><div class=\"sk-label sk-toggleable\"><input class=\"sk-toggleable__control sk-hidden--visually\" id=\"sk-estimator-id-6\" type=\"checkbox\" ><label for=\"sk-estimator-id-6\" class=\"sk-toggleable__label sk-toggleable__label-arrow\">GridSearchCV</label><div class=\"sk-toggleable__content\"><pre>GridSearchCV(cv=5, estimator=RandomForestClassifier(), n_jobs=-1,\n",
       "             param_grid={&#x27;max_depth&#x27;: array([ 2,  3,  4,  5,  6,  7,  8,  9, 10]),\n",
       "                         &#x27;n_estimators&#x27;: array([100, 200, 300, 400, 500])},\n",
       "             scoring=&#x27;accuracy&#x27;)</pre></div></div></div><div class=\"sk-parallel\"><div class=\"sk-parallel-item\"><div class=\"sk-item\"><div class=\"sk-label-container\"><div class=\"sk-label sk-toggleable\"><input class=\"sk-toggleable__control sk-hidden--visually\" id=\"sk-estimator-id-7\" type=\"checkbox\" ><label for=\"sk-estimator-id-7\" class=\"sk-toggleable__label sk-toggleable__label-arrow\">estimator: RandomForestClassifier</label><div class=\"sk-toggleable__content\"><pre>RandomForestClassifier()</pre></div></div></div><div class=\"sk-serial\"><div class=\"sk-item\"><div class=\"sk-estimator sk-toggleable\"><input class=\"sk-toggleable__control sk-hidden--visually\" id=\"sk-estimator-id-8\" type=\"checkbox\" ><label for=\"sk-estimator-id-8\" class=\"sk-toggleable__label sk-toggleable__label-arrow\">RandomForestClassifier</label><div class=\"sk-toggleable__content\"><pre>RandomForestClassifier()</pre></div></div></div></div></div></div></div></div></div></div>"
      ],
      "text/plain": [
       "GridSearchCV(cv=5, estimator=RandomForestClassifier(), n_jobs=-1,\n",
       "             param_grid={'max_depth': array([ 2,  3,  4,  5,  6,  7,  8,  9, 10]),\n",
       "                         'n_estimators': array([100, 200, 300, 400, 500])},\n",
       "             scoring='accuracy')"
      ]
     },
     "execution_count": 149,
     "metadata": {},
     "output_type": "execute_result"
    }
   ],
   "source": [
    "from sklearn.model_selection import GridSearchCV\n",
    "\n",
    "param = {'n_estimators': np.arange(100,501,100), 'max_depth': np.arange(2, 11)}\n",
    "\n",
    "gscv = GridSearchCV(RandomForestClassifier(),param,cv = 5,scoring = 'accuracy',n_jobs = -1)\n",
    "\n",
    "gscv.fit(X_train, y_train.Delay_Level.ravel())"
   ]
  },
  {
   "cell_type": "code",
   "execution_count": 150,
   "id": "accepted-boost",
   "metadata": {},
   "outputs": [
    {
     "data": {
      "text/html": [
       "<style>#sk-container-id-7 {color: black;background-color: white;}#sk-container-id-7 pre{padding: 0;}#sk-container-id-7 div.sk-toggleable {background-color: white;}#sk-container-id-7 label.sk-toggleable__label {cursor: pointer;display: block;width: 100%;margin-bottom: 0;padding: 0.3em;box-sizing: border-box;text-align: center;}#sk-container-id-7 label.sk-toggleable__label-arrow:before {content: \"▸\";float: left;margin-right: 0.25em;color: #696969;}#sk-container-id-7 label.sk-toggleable__label-arrow:hover:before {color: black;}#sk-container-id-7 div.sk-estimator:hover label.sk-toggleable__label-arrow:before {color: black;}#sk-container-id-7 div.sk-toggleable__content {max-height: 0;max-width: 0;overflow: hidden;text-align: left;background-color: #f0f8ff;}#sk-container-id-7 div.sk-toggleable__content pre {margin: 0.2em;color: black;border-radius: 0.25em;background-color: #f0f8ff;}#sk-container-id-7 input.sk-toggleable__control:checked~div.sk-toggleable__content {max-height: 200px;max-width: 100%;overflow: auto;}#sk-container-id-7 input.sk-toggleable__control:checked~label.sk-toggleable__label-arrow:before {content: \"▾\";}#sk-container-id-7 div.sk-estimator input.sk-toggleable__control:checked~label.sk-toggleable__label {background-color: #d4ebff;}#sk-container-id-7 div.sk-label input.sk-toggleable__control:checked~label.sk-toggleable__label {background-color: #d4ebff;}#sk-container-id-7 input.sk-hidden--visually {border: 0;clip: rect(1px 1px 1px 1px);clip: rect(1px, 1px, 1px, 1px);height: 1px;margin: -1px;overflow: hidden;padding: 0;position: absolute;width: 1px;}#sk-container-id-7 div.sk-estimator {font-family: monospace;background-color: #f0f8ff;border: 1px dotted black;border-radius: 0.25em;box-sizing: border-box;margin-bottom: 0.5em;}#sk-container-id-7 div.sk-estimator:hover {background-color: #d4ebff;}#sk-container-id-7 div.sk-parallel-item::after {content: \"\";width: 100%;border-bottom: 1px solid gray;flex-grow: 1;}#sk-container-id-7 div.sk-label:hover label.sk-toggleable__label {background-color: #d4ebff;}#sk-container-id-7 div.sk-serial::before {content: \"\";position: absolute;border-left: 1px solid gray;box-sizing: border-box;top: 0;bottom: 0;left: 50%;z-index: 0;}#sk-container-id-7 div.sk-serial {display: flex;flex-direction: column;align-items: center;background-color: white;padding-right: 0.2em;padding-left: 0.2em;position: relative;}#sk-container-id-7 div.sk-item {position: relative;z-index: 1;}#sk-container-id-7 div.sk-parallel {display: flex;align-items: stretch;justify-content: center;background-color: white;position: relative;}#sk-container-id-7 div.sk-item::before, #sk-container-id-7 div.sk-parallel-item::before {content: \"\";position: absolute;border-left: 1px solid gray;box-sizing: border-box;top: 0;bottom: 0;left: 50%;z-index: -1;}#sk-container-id-7 div.sk-parallel-item {display: flex;flex-direction: column;z-index: 1;position: relative;background-color: white;}#sk-container-id-7 div.sk-parallel-item:first-child::after {align-self: flex-end;width: 50%;}#sk-container-id-7 div.sk-parallel-item:last-child::after {align-self: flex-start;width: 50%;}#sk-container-id-7 div.sk-parallel-item:only-child::after {width: 0;}#sk-container-id-7 div.sk-dashed-wrapped {border: 1px dashed gray;margin: 0 0.4em 0.5em 0.4em;box-sizing: border-box;padding-bottom: 0.4em;background-color: white;}#sk-container-id-7 div.sk-label label {font-family: monospace;font-weight: bold;display: inline-block;line-height: 1.2em;}#sk-container-id-7 div.sk-label-container {text-align: center;}#sk-container-id-7 div.sk-container {/* jupyter's `normalize.less` sets `[hidden] { display: none; }` but bootstrap.min.css set `[hidden] { display: none !important; }` so we also need the `!important` here to be able to override the default hidden behavior on the sphinx rendered scikit-learn.org. See: https://github.com/scikit-learn/scikit-learn/issues/21755 */display: inline-block !important;position: relative;}#sk-container-id-7 div.sk-text-repr-fallback {display: none;}</style><div id=\"sk-container-id-7\" class=\"sk-top-container\"><div class=\"sk-text-repr-fallback\"><pre>RandomForestClassifier(max_depth=10, n_estimators=300)</pre><b>In a Jupyter environment, please rerun this cell to show the HTML representation or trust the notebook. <br />On GitHub, the HTML representation is unable to render, please try loading this page with nbviewer.org.</b></div><div class=\"sk-container\" hidden><div class=\"sk-item\"><div class=\"sk-estimator sk-toggleable\"><input class=\"sk-toggleable__control sk-hidden--visually\" id=\"sk-estimator-id-9\" type=\"checkbox\" checked><label for=\"sk-estimator-id-9\" class=\"sk-toggleable__label sk-toggleable__label-arrow\">RandomForestClassifier</label><div class=\"sk-toggleable__content\"><pre>RandomForestClassifier(max_depth=10, n_estimators=300)</pre></div></div></div></div></div>"
      ],
      "text/plain": [
       "RandomForestClassifier(max_depth=10, n_estimators=300)"
      ]
     },
     "execution_count": 150,
     "metadata": {},
     "output_type": "execute_result"
    }
   ],
   "source": [
    "gscv.best_estimator_"
   ]
  },
  {
   "cell_type": "code",
   "execution_count": 151,
   "id": "affiliated-project",
   "metadata": {},
   "outputs": [
    {
     "data": {
      "text/plain": [
       "0.49292092423823985"
      ]
     },
     "execution_count": 151,
     "metadata": {},
     "output_type": "execute_result"
    }
   ],
   "source": [
    "gscv.best_score_"
   ]
  },
  {
   "cell_type": "markdown",
   "id": "floral-borough",
   "metadata": {},
   "source": [
    "After a long runtime(even with only a 10 by 5 gridsearch), we got results which were very similar to that of our model with not much improvement at all. So we decided to check another classification model, XGBoost classifier"
   ]
  },
  {
   "cell_type": "markdown",
   "id": "fluid-monster",
   "metadata": {},
   "source": [
    "### XGBoost Classifier"
   ]
  },
  {
   "cell_type": "code",
   "execution_count": 152,
   "id": "dutch-habitat",
   "metadata": {},
   "outputs": [],
   "source": [
    "import xgboost as xgb\n",
    "\n",
    "y = pd.DataFrame(finaldf[\"Delay_Level\"].astype(\"int64\"))\n",
    "X = pd.DataFrame(finaldf.drop([\"Delay_Level\",\"Departure_Delay\"], axis = 1))\n",
    "\n",
    "X_train, X_test, y_train, y_test = train_test_split(X, y, test_size = 0.25,random_state = 1000)\n",
    "\n",
    "train = xgb.DMatrix(X_train, label = y_train)\n",
    "test = xgb.DMatrix(X_test, label = y_test)"
   ]
  },
  {
   "cell_type": "code",
   "execution_count": 153,
   "id": "retained-problem",
   "metadata": {},
   "outputs": [],
   "source": [
    "param = {\"max_depth\": 15,\n",
    "\"eta\": 0.21,\n",
    "\"objective\":\"multi:softmax\",\n",
    "\"num_class\": 3,\n",
    "\"min_child_weight\":0}\n",
    "iterations = 100"
   ]
  },
  {
   "cell_type": "code",
   "execution_count": 154,
   "id": "present-sister",
   "metadata": {},
   "outputs": [
    {
     "name": "stdout",
     "output_type": "stream",
     "text": [
      "[18:43:24] WARNING: ../src/learner.cc:1061: Starting in XGBoost 1.3.0, the default evaluation metric used with the objective 'multi:softmax' was changed from 'merror' to 'mlogloss'. Explicitly set eval_metric if you'd like to restore the old behavior.\n"
     ]
    }
   ],
   "source": [
    "model = xgb.train(param, train, iterations)"
   ]
  },
  {
   "cell_type": "code",
   "execution_count": 155,
   "id": "automotive-bronze",
   "metadata": {},
   "outputs": [
    {
     "name": "stdout",
     "output_type": "stream",
     "text": [
      "[0. 1. 2. ... 1. 2. 0.]\n"
     ]
    }
   ],
   "source": [
    "pred = model.predict(test)\n",
    "print(pred)"
   ]
  },
  {
   "cell_type": "code",
   "execution_count": 156,
   "id": "republican-istanbul",
   "metadata": {},
   "outputs": [
    {
     "name": "stdout",
     "output_type": "stream",
     "text": [
      "Test Dataset accuracy\n",
      "0.48089031260355686\n"
     ]
    },
    {
     "data": {
      "text/plain": [
       "<AxesSubplot:>"
      ]
     },
     "execution_count": 156,
     "metadata": {},
     "output_type": "execute_result"
    },
    {
     "data": {
      "image/png": "[encoded data removed]",
      "text/plain": [
       "<Figure size 432x288 with 2 Axes>"
      ]
     },
     "metadata": {},
     "output_type": "display_data"
    }
   ],
   "source": [
    "from sklearn.metrics import accuracy_score\n",
    "\n",
    "print(\"Test Dataset accuracy\")\n",
    "print(accuracy_score(y_test, pred))\n",
    "sb.heatmap(confusion_matrix(y_test, pred),annot = True, fmt=\".0f\", annot_kws={\"size\": 24},cmap =\"BuPu\")"
   ]
  },
  {
   "cell_type": "markdown",
   "id": "checked-underwear",
   "metadata": {},
   "source": [
    "We see that we get results which are very similar to that of a random forest. Thus, we choose XGBoost as our main model to predict delay levels, as it was much more efficient and ran way faster than a random forest"
   ]
  },
  {
   "cell_type": "code",
   "execution_count": 157,
   "id": "portuguese-montana",
   "metadata": {},
   "outputs": [
    {
     "data": {
      "text/plain": [
       "<AxesSubplot:title={'center':'Feature importance'}, xlabel='F score', ylabel='Features'>"
      ]
     },
     "execution_count": 157,
     "metadata": {},
     "output_type": "execute_result"
    },
    {
     "data": {
      "image/png": "[encoded data removed]",
      "text/plain": [
       "<Figure size 432x288 with 1 Axes>"
      ]
     },
     "metadata": {},
     "output_type": "display_data"
    }
   ],
   "source": [
    "xgb.plot_importance(model)"
   ]
  },
  {
   "cell_type": "markdown",
   "id": "armed-romantic",
   "metadata": {},
   "source": [
    "Here, we can see that the weather data seems to be much more important than other features."
   ]
  },
  {
   "cell_type": "markdown",
   "id": "divided-valuation",
   "metadata": {},
   "source": [
    "Adjusting the model to get class probabilities"
   ]
  },
  {
   "cell_type": "code",
   "execution_count": 164,
   "id": "employed-symbol",
   "metadata": {},
   "outputs": [],
   "source": [
    "param = {\"max_depth\": 15,\n",
    "\"eta\": 0.21,\n",
    "\"objective\":\"multi:softprob\",\n",
    "\"num_class\": 3,\n",
    "\"min_child_weight\":0}\n",
    "iterations = 100"
   ]
  },
  {
   "cell_type": "code",
   "execution_count": 165,
   "id": "statewide-valentine",
   "metadata": {},
   "outputs": [
    {
     "name": "stdout",
     "output_type": "stream",
     "text": [
      "[18:43:57] WARNING: ../src/learner.cc:1061: Starting in XGBoost 1.3.0, the default evaluation metric used with the objective 'multi:softprob' was changed from 'merror' to 'mlogloss'. Explicitly set eval_metric if you'd like to restore the old behavior.\n"
     ]
    }
   ],
   "source": [
    "model1 = xgb.train(param,train,iterations)"
   ]
  },
  {
   "cell_type": "code",
   "execution_count": 166,
   "id": "annoying-month",
   "metadata": {},
   "outputs": [
    {
     "data": {
      "text/plain": [
       "array([[0.6147957 , 0.32740027, 0.05780408],\n",
       "       [0.24854851, 0.4222733 , 0.32917818],\n",
       "       [0.4351355 , 0.1173232 , 0.44754124],\n",
       "       ...,\n",
       "       [0.35002884, 0.51159   , 0.13838111],\n",
       "       [0.20765755, 0.06801868, 0.72432375],\n",
       "       [0.84416527, 0.15242031, 0.00341438]], dtype=float32)"
      ]
     },
     "execution_count": 166,
     "metadata": {},
     "output_type": "execute_result"
    }
   ],
   "source": [
    "ypred = model1.predict(test)\n",
    "ypred"
   ]
  },
  {
   "cell_type": "code",
   "execution_count": 167,
   "id": "numeric-muslim",
   "metadata": {},
   "outputs": [
    {
     "data": {
      "text/html": [
       "<div>\n",
       "<style scoped>\n",
       "    .dataframe tbody tr th:only-of-type {\n",
       "        vertical-align: middle;\n",
       "    }\n",
       "\n",
       "    .dataframe tbody tr th {\n",
       "        vertical-align: top;\n",
       "    }\n",
       "\n",
       "    .dataframe thead th {\n",
       "        text-align: right;\n",
       "    }\n",
       "</style>\n",
       "<table border=\"1\" class=\"dataframe\">\n",
       "  <thead>\n",
       "    <tr style=\"text-align: right;\">\n",
       "      <th></th>\n",
       "      <th>0</th>\n",
       "      <th>1</th>\n",
       "      <th>2</th>\n",
       "    </tr>\n",
       "  </thead>\n",
       "  <tbody>\n",
       "    <tr>\n",
       "      <th>0</th>\n",
       "      <td>0.614796</td>\n",
       "      <td>0.327400</td>\n",
       "      <td>0.057804</td>\n",
       "    </tr>\n",
       "    <tr>\n",
       "      <th>1</th>\n",
       "      <td>0.248549</td>\n",
       "      <td>0.422273</td>\n",
       "      <td>0.329178</td>\n",
       "    </tr>\n",
       "    <tr>\n",
       "      <th>2</th>\n",
       "      <td>0.435136</td>\n",
       "      <td>0.117323</td>\n",
       "      <td>0.447541</td>\n",
       "    </tr>\n",
       "    <tr>\n",
       "      <th>3</th>\n",
       "      <td>0.272963</td>\n",
       "      <td>0.620273</td>\n",
       "      <td>0.106764</td>\n",
       "    </tr>\n",
       "    <tr>\n",
       "      <th>4</th>\n",
       "      <td>0.074278</td>\n",
       "      <td>0.808024</td>\n",
       "      <td>0.117698</td>\n",
       "    </tr>\n",
       "  </tbody>\n",
       "</table>\n",
       "</div>"
      ],
      "text/plain": [
       "          0         1         2\n",
       "0  0.614796  0.327400  0.057804\n",
       "1  0.248549  0.422273  0.329178\n",
       "2  0.435136  0.117323  0.447541\n",
       "3  0.272963  0.620273  0.106764\n",
       "4  0.074278  0.808024  0.117698"
      ]
     },
     "execution_count": 167,
     "metadata": {},
     "output_type": "execute_result"
    }
   ],
   "source": [
    "probs = pd.DataFrame(ypred)\n",
    "probs.head()"
   ]
  },
  {
   "cell_type": "code",
   "execution_count": 168,
   "id": "loving-hanging",
   "metadata": {},
   "outputs": [
    {
     "data": {
      "text/html": [
       "<div>\n",
       "<style scoped>\n",
       "    .dataframe tbody tr th:only-of-type {\n",
       "        vertical-align: middle;\n",
       "    }\n",
       "\n",
       "    .dataframe tbody tr th {\n",
       "        vertical-align: top;\n",
       "    }\n",
       "\n",
       "    .dataframe thead th {\n",
       "        text-align: right;\n",
       "    }\n",
       "</style>\n",
       "<table border=\"1\" class=\"dataframe\">\n",
       "  <thead>\n",
       "    <tr style=\"text-align: right;\">\n",
       "      <th></th>\n",
       "      <th>0</th>\n",
       "      <th>1</th>\n",
       "      <th>2</th>\n",
       "    </tr>\n",
       "  </thead>\n",
       "  <tbody>\n",
       "    <tr>\n",
       "      <th>count</th>\n",
       "      <td>18106.000000</td>\n",
       "      <td>18106.000000</td>\n",
       "      <td>18106.000000</td>\n",
       "    </tr>\n",
       "    <tr>\n",
       "      <th>mean</th>\n",
       "      <td>0.337561</td>\n",
       "      <td>0.354743</td>\n",
       "      <td>0.307696</td>\n",
       "    </tr>\n",
       "    <tr>\n",
       "      <th>std</th>\n",
       "      <td>0.321469</td>\n",
       "      <td>0.275262</td>\n",
       "      <td>0.303925</td>\n",
       "    </tr>\n",
       "    <tr>\n",
       "      <th>min</th>\n",
       "      <td>0.000124</td>\n",
       "      <td>0.000611</td>\n",
       "      <td>0.000168</td>\n",
       "    </tr>\n",
       "    <tr>\n",
       "      <th>25%</th>\n",
       "      <td>0.048198</td>\n",
       "      <td>0.108173</td>\n",
       "      <td>0.057283</td>\n",
       "    </tr>\n",
       "    <tr>\n",
       "      <th>50%</th>\n",
       "      <td>0.223590</td>\n",
       "      <td>0.296355</td>\n",
       "      <td>0.176557</td>\n",
       "    </tr>\n",
       "    <tr>\n",
       "      <th>75%</th>\n",
       "      <td>0.594787</td>\n",
       "      <td>0.553824</td>\n",
       "      <td>0.507612</td>\n",
       "    </tr>\n",
       "    <tr>\n",
       "      <th>max</th>\n",
       "      <td>0.998888</td>\n",
       "      <td>0.986206</td>\n",
       "      <td>0.996657</td>\n",
       "    </tr>\n",
       "  </tbody>\n",
       "</table>\n",
       "</div>"
      ],
      "text/plain": [
       "                  0             1             2\n",
       "count  18106.000000  18106.000000  18106.000000\n",
       "mean       0.337561      0.354743      0.307696\n",
       "std        0.321469      0.275262      0.303925\n",
       "min        0.000124      0.000611      0.000168\n",
       "25%        0.048198      0.108173      0.057283\n",
       "50%        0.223590      0.296355      0.176557\n",
       "75%        0.594787      0.553824      0.507612\n",
       "max        0.998888      0.986206      0.996657"
      ]
     },
     "execution_count": 168,
     "metadata": {},
     "output_type": "execute_result"
    }
   ],
   "source": [
    "probs.describe()"
   ]
  },
  {
   "cell_type": "markdown",
   "id": "drawn-oklahoma",
   "metadata": {},
   "source": [
    "We see that our tree is being built relatively evenly distributed into the 3 classes."
   ]
  },
  {
   "cell_type": "markdown",
   "id": "plastic-relationship",
   "metadata": {},
   "source": [
    "### Generalising to 2 classes to try to achieve better results"
   ]
  },
  {
   "cell_type": "code",
   "execution_count": 169,
   "id": "nuclear-craps",
   "metadata": {},
   "outputs": [
    {
     "name": "stdout",
     "output_type": "stream",
     "text": [
      "<class 'pandas.core.frame.DataFrame'>\n",
      "Int64Index: 233772 entries, 0 to 233771\n",
      "Data columns (total 33 columns):\n",
      " #   Column             Non-Null Count   Dtype  \n",
      "---  ------             --------------   -----  \n",
      " 0   Unnamed: 0         233772 non-null  int64  \n",
      " 1   Time_Hour_TS       233772 non-null  object \n",
      " 2   Airline            233772 non-null  object \n",
      " 3   Flight_Number      233772 non-null  int64  \n",
      " 4   Tail_Number        233772 non-null  object \n",
      " 5   Departure_Time     233772 non-null  object \n",
      " 6   Departure_Delay    233772 non-null  float64\n",
      " 7   Arrival_Time       233772 non-null  object \n",
      " 8   Arrival_Delay      233772 non-null  float64\n",
      " 9   Origin             233772 non-null  object \n",
      " 10  Destination        233772 non-null  object \n",
      " 11  Flight_Distance    233772 non-null  int64  \n",
      " 12  Flight_Duration    233772 non-null  float64\n",
      " 13  Aircraft_Type      233772 non-null  object \n",
      " 14  Model              233772 non-null  object \n",
      " 15  Year_Manufactured  233772 non-null  float64\n",
      " 16  Manufacturer       233772 non-null  object \n",
      " 17  Number_of_Engines  233772 non-null  int64  \n",
      " 18  Engine_Type        233772 non-null  object \n",
      " 19  Seats              233772 non-null  int64  \n",
      " 20  Temperature        233772 non-null  float64\n",
      " 21  Humidity           233772 non-null  float64\n",
      " 22  Wind_Direction     233772 non-null  float64\n",
      " 23  Wind_Speed         233772 non-null  float64\n",
      " 24  Precipitation      233772 non-null  float64\n",
      " 25  Pressure           233772 non-null  float64\n",
      " 26  Visibility         233772 non-null  float64\n",
      " 27  Year               233772 non-null  int64  \n",
      " 28  Month              233772 non-null  int64  \n",
      " 29  Day                233772 non-null  int64  \n",
      " 30  Hour               233772 non-null  int64  \n",
      " 31  Time_Series        233772 non-null  object \n",
      " 32  Delay_Level        233772 non-null  int64  \n",
      "dtypes: float64(11), int64(10), object(12)\n",
      "memory usage: 68.7+ MB\n"
     ]
    }
   ],
   "source": [
    "DF.info()"
   ]
  },
  {
   "cell_type": "code",
   "execution_count": 170,
   "id": "younger-legislature",
   "metadata": {},
   "outputs": [],
   "source": [
    "delay_type = lambda x:(0,1)[x > 0]\n",
    "DF['Delay_Level'] = DF['Departure_Delay'].apply(delay_type)"
   ]
  },
  {
   "cell_type": "code",
   "execution_count": 171,
   "id": "computational-wheat",
   "metadata": {},
   "outputs": [
    {
     "data": {
      "image/png": "[encoded data removed]",
      "text/plain": [
       "<Figure size 1440x720 with 1 Axes>"
      ]
     },
     "metadata": {},
     "output_type": "display_data"
    }
   ],
   "source": [
    "f = plt.figure(1, figsize=(20, 10))\n",
    "sb.countplot(data = DF, y = \"Airline\", hue = \"Delay_Level\")\n",
    "f = plt.legend()\n",
    "f.get_texts()[0].set_text('No Delay (time <= 0)mins')\n",
    "f.get_texts()[1].set_text('Delay (>0)mins')\n",
    "plt.show()"
   ]
  },
  {
   "cell_type": "code",
   "execution_count": 172,
   "id": "structural-indianapolis",
   "metadata": {},
   "outputs": [
    {
     "data": {
      "text/plain": [
       "0    142603\n",
       "1     91169\n",
       "Name: Delay_Level, dtype: int64"
      ]
     },
     "execution_count": 172,
     "metadata": {},
     "output_type": "execute_result"
    }
   ],
   "source": [
    "DF[\"Delay_Level\"].value_counts()"
   ]
  },
  {
   "cell_type": "code",
   "execution_count": 173,
   "id": "proud-wildlife",
   "metadata": {},
   "outputs": [],
   "source": [
    "rfcdf = DF.copy()"
   ]
  },
  {
   "cell_type": "code",
   "execution_count": 174,
   "id": "duplicate-behalf",
   "metadata": {},
   "outputs": [],
   "source": [
    "rfcdf_dl0 = rfcdf[rfcdf.Delay_Level == 0]\n",
    "rfcdf_dlother = rfcdf[rfcdf.Delay_Level != 0]"
   ]
  },
  {
   "cell_type": "markdown",
   "id": "induced-uzbekistan",
   "metadata": {},
   "source": [
    "We will have to rebalance the dataset now since our classes have changed"
   ]
  },
  {
   "cell_type": "code",
   "execution_count": 175,
   "id": "becoming-primary",
   "metadata": {},
   "outputs": [
    {
     "name": "stdout",
     "output_type": "stream",
     "text": [
      "<class 'pandas.core.frame.DataFrame'>\n",
      "Int64Index: 91169 entries, 23238 to 218942\n",
      "Data columns (total 33 columns):\n",
      " #   Column             Non-Null Count  Dtype  \n",
      "---  ------             --------------  -----  \n",
      " 0   Unnamed: 0         91169 non-null  int64  \n",
      " 1   Time_Hour_TS       91169 non-null  object \n",
      " 2   Airline            91169 non-null  object \n",
      " 3   Flight_Number      91169 non-null  int64  \n",
      " 4   Tail_Number        91169 non-null  object \n",
      " 5   Departure_Time     91169 non-null  object \n",
      " 6   Departure_Delay    91169 non-null  float64\n",
      " 7   Arrival_Time       91169 non-null  object \n",
      " 8   Arrival_Delay      91169 non-null  float64\n",
      " 9   Origin             91169 non-null  object \n",
      " 10  Destination        91169 non-null  object \n",
      " 11  Flight_Distance    91169 non-null  int64  \n",
      " 12  Flight_Duration    91169 non-null  float64\n",
      " 13  Aircraft_Type      91169 non-null  object \n",
      " 14  Model              91169 non-null  object \n",
      " 15  Year_Manufactured  91169 non-null  float64\n",
      " 16  Manufacturer       91169 non-null  object \n",
      " 17  Number_of_Engines  91169 non-null  int64  \n",
      " 18  Engine_Type        91169 non-null  object \n",
      " 19  Seats              91169 non-null  int64  \n",
      " 20  Temperature        91169 non-null  float64\n",
      " 21  Humidity           91169 non-null  float64\n",
      " 22  Wind_Direction     91169 non-null  float64\n",
      " 23  Wind_Speed         91169 non-null  float64\n",
      " 24  Precipitation      91169 non-null  float64\n",
      " 25  Pressure           91169 non-null  float64\n",
      " 26  Visibility         91169 non-null  float64\n",
      " 27  Year               91169 non-null  int64  \n",
      " 28  Month              91169 non-null  int64  \n",
      " 29  Day                91169 non-null  int64  \n",
      " 30  Hour               91169 non-null  int64  \n",
      " 31  Time_Series        91169 non-null  object \n",
      " 32  Delay_Level        91169 non-null  int64  \n",
      "dtypes: float64(11), int64(10), object(12)\n",
      "memory usage: 23.6+ MB\n"
     ]
    }
   ],
   "source": [
    "from sklearn.utils import resample\n",
    "rfcdf_dl0_downsampled = resample(rfcdf_dl0,replace = False,n_samples =91169,random_state =300)\n",
    "rfcdf_dl0_downsampled.info()"
   ]
  },
  {
   "cell_type": "code",
   "execution_count": 176,
   "id": "understanding-force",
   "metadata": {},
   "outputs": [
    {
     "data": {
      "text/plain": [
       "0    91169\n",
       "1    91169\n",
       "Name: Delay_Level, dtype: int64"
      ]
     },
     "execution_count": 176,
     "metadata": {},
     "output_type": "execute_result"
    }
   ],
   "source": [
    "rfcdf_downsampled = pd.concat([rfcdf_dlother, rfcdf_dl0_downsampled])\n",
    "rfcdf_downsampled[\"Delay_Level\"].value_counts()"
   ]
  },
  {
   "cell_type": "code",
   "execution_count": 177,
   "id": "graphic-uncle",
   "metadata": {},
   "outputs": [
    {
     "name": "stdout",
     "output_type": "stream",
     "text": [
      "<class 'pandas.core.frame.DataFrame'>\n",
      "Int64Index: 182338 entries, 0 to 218942\n",
      "Data columns (total 33 columns):\n",
      " #   Column             Non-Null Count   Dtype  \n",
      "---  ------             --------------   -----  \n",
      " 0   Unnamed: 0         182338 non-null  int64  \n",
      " 1   Time_Hour_TS       182338 non-null  object \n",
      " 2   Airline            182338 non-null  object \n",
      " 3   Flight_Number      182338 non-null  int64  \n",
      " 4   Tail_Number        182338 non-null  object \n",
      " 5   Departure_Time     182338 non-null  object \n",
      " 6   Departure_Delay    182338 non-null  float64\n",
      " 7   Arrival_Time       182338 non-null  object \n",
      " 8   Arrival_Delay      182338 non-null  float64\n",
      " 9   Origin             182338 non-null  object \n",
      " 10  Destination        182338 non-null  object \n",
      " 11  Flight_Distance    182338 non-null  int64  \n",
      " 12  Flight_Duration    182338 non-null  float64\n",
      " 13  Aircraft_Type      182338 non-null  object \n",
      " 14  Model              182338 non-null  object \n",
      " 15  Year_Manufactured  182338 non-null  float64\n",
      " 16  Manufacturer       182338 non-null  object \n",
      " 17  Number_of_Engines  182338 non-null  int64  \n",
      " 18  Engine_Type        182338 non-null  object \n",
      " 19  Seats              182338 non-null  int64  \n",
      " 20  Temperature        182338 non-null  float64\n",
      " 21  Humidity           182338 non-null  float64\n",
      " 22  Wind_Direction     182338 non-null  float64\n",
      " 23  Wind_Speed         182338 non-null  float64\n",
      " 24  Precipitation      182338 non-null  float64\n",
      " 25  Pressure           182338 non-null  float64\n",
      " 26  Visibility         182338 non-null  float64\n",
      " 27  Year               182338 non-null  int64  \n",
      " 28  Month              182338 non-null  int64  \n",
      " 29  Day                182338 non-null  int64  \n",
      " 30  Hour               182338 non-null  int64  \n",
      " 31  Time_Series        182338 non-null  object \n",
      " 32  Delay_Level        182338 non-null  int64  \n",
      "dtypes: float64(11), int64(10), object(12)\n",
      "memory usage: 47.3+ MB\n"
     ]
    }
   ],
   "source": [
    "rfcdf_downsampled.info()"
   ]
  },
  {
   "cell_type": "code",
   "execution_count": 178,
   "id": "satisfactory-encoding",
   "metadata": {},
   "outputs": [
    {
     "data": {
      "text/plain": [
       "<AxesSubplot:xlabel='Delay_Level', ylabel='count'>"
      ]
     },
     "execution_count": 178,
     "metadata": {},
     "output_type": "execute_result"
    },
    {
     "data": {
      "image/png": "[encoded data removed]",
      "text/plain": [
       "<Figure size 432x288 with 1 Axes>"
      ]
     },
     "metadata": {},
     "output_type": "display_data"
    }
   ],
   "source": [
    "sb.countplot(x = \"Delay_Level\",data = rfcdf_downsampled)"
   ]
  },
  {
   "cell_type": "code",
   "execution_count": 179,
   "id": "extraordinary-guess",
   "metadata": {},
   "outputs": [
    {
     "name": "stdout",
     "output_type": "stream",
     "text": [
      "<class 'pandas.core.frame.DataFrame'>\n",
      "RangeIndex: 182338 entries, 0 to 182337\n",
      "Data columns (total 21 columns):\n",
      " #   Column                                      Non-Null Count   Dtype  \n",
      "---  ------                                      --------------   -----  \n",
      " 0   Origin_EWR                                  182338 non-null  float64\n",
      " 1   Origin_JFK                                  182338 non-null  float64\n",
      " 2   Origin_LGA                                  182338 non-null  float64\n",
      " 3   Engine_Type_Turbo-fan                       182338 non-null  float64\n",
      " 4   Engine_Type_Turbo-jet                       182338 non-null  float64\n",
      " 5   Manufacturer_AIRBUS INDUSTRIE               182338 non-null  float64\n",
      " 6   Manufacturer_BOEING                         182338 non-null  float64\n",
      " 7   Manufacturer_BOMBARDIER INC                 182338 non-null  float64\n",
      " 8   Manufacturer_CANADAIR                       182338 non-null  float64\n",
      " 9   Manufacturer_EMBRAER                        182338 non-null  float64\n",
      " 10  Manufacturer_MCDONNELL DOUGLAS CORPORATION  182338 non-null  float64\n",
      " 11  Airline_AirTran Airways Corporation         182338 non-null  float64\n",
      " 12  Airline_American Airlines Inc.              182338 non-null  float64\n",
      " 13  Airline_Delta Air Lines Inc.                182338 non-null  float64\n",
      " 14  Airline_Endeavor Air Inc.                   182338 non-null  float64\n",
      " 15  Airline_ExpressJet Airlines Inc.            182338 non-null  float64\n",
      " 16  Airline_JetBlue Airways                     182338 non-null  float64\n",
      " 17  Airline_Southwest Airlines Co.              182338 non-null  float64\n",
      " 18  Airline_US Airways Inc.                     182338 non-null  float64\n",
      " 19  Airline_United Air Lines Inc.               182338 non-null  float64\n",
      " 20  Airline_Virgin America                      182338 non-null  float64\n",
      "dtypes: float64(21)\n",
      "memory usage: 29.2 MB\n"
     ]
    },
    {
     "name": "stderr",
     "output_type": "stream",
     "text": [
      "/home/NIHALARY001/CZ1016/base/lib/python3.8/site-packages/sklearn/utils/deprecation.py:87: FutureWarning: Function get_feature_names is deprecated; get_feature_names is deprecated in 1.0 and will be removed in 1.2. Please use get_feature_names_out instead.\n",
      "  warnings.warn(msg, category=FutureWarning)\n"
     ]
    }
   ],
   "source": [
    "from sklearn.preprocessing import OneHotEncoder\n",
    "\n",
    "enc = OneHotEncoder()\n",
    "\n",
    "catvars = rfcdf_downsampled[[\"Origin\",\"Engine_Type\",\"Manufacturer\",\"Airline\"]]\n",
    "enc.fit(catvars)\n",
    "catvars_enc = pd.DataFrame(enc.transform(catvars).toarray(), \n",
    "                                  columns=enc.get_feature_names(catvars.columns))\n",
    "\n",
    "catvars_enc.info()"
   ]
  },
  {
   "cell_type": "code",
   "execution_count": 180,
   "id": "contained-reply",
   "metadata": {},
   "outputs": [],
   "source": [
    "numvars = rfcdf_downsampled[[\"Departure_Delay\",\"Delay_Level\",\"Number_of_Engines\",\n",
    "                             \"Seats\",\"Temperature\",\"Humidity\",\"Wind_Speed\",\n",
    "                             \"Pressure\",\"Visibility\",\"Hour\"]]"
   ]
  },
  {
   "cell_type": "code",
   "execution_count": 181,
   "id": "tribal-combine",
   "metadata": {},
   "outputs": [
    {
     "name": "stdout",
     "output_type": "stream",
     "text": [
      "<class 'pandas.core.frame.DataFrame'>\n",
      "Int64Index: 182338 entries, 0 to 218942\n",
      "Data columns (total 10 columns):\n",
      " #   Column             Non-Null Count   Dtype  \n",
      "---  ------             --------------   -----  \n",
      " 0   Departure_Delay    182338 non-null  float64\n",
      " 1   Delay_Level        182338 non-null  int64  \n",
      " 2   Number_of_Engines  182338 non-null  int64  \n",
      " 3   Seats              182338 non-null  int64  \n",
      " 4   Temperature        182338 non-null  float64\n",
      " 5   Humidity           182338 non-null  float64\n",
      " 6   Wind_Speed         182338 non-null  float64\n",
      " 7   Pressure           182338 non-null  float64\n",
      " 8   Visibility         182338 non-null  float64\n",
      " 9   Hour               182338 non-null  int64  \n",
      "dtypes: float64(6), int64(4)\n",
      "memory usage: 19.3 MB\n"
     ]
    }
   ],
   "source": [
    "numvars.info()"
   ]
  },
  {
   "cell_type": "code",
   "execution_count": 183,
   "id": "searching-modeling",
   "metadata": {},
   "outputs": [
    {
     "name": "stdout",
     "output_type": "stream",
     "text": [
      "<class 'pandas.core.frame.DataFrame'>\n",
      "RangeIndex: 182338 entries, 0 to 182337\n",
      "Data columns (total 12 columns):\n",
      " #   Column             Non-Null Count   Dtype  \n",
      "---  ------             --------------   -----  \n",
      " 0   level_0            182338 non-null  int64  \n",
      " 1   index              182338 non-null  int64  \n",
      " 2   Departure_Delay    182338 non-null  float64\n",
      " 3   Delay_Level        182338 non-null  int64  \n",
      " 4   Number_of_Engines  182338 non-null  int64  \n",
      " 5   Seats              182338 non-null  int64  \n",
      " 6   Temperature        182338 non-null  float64\n",
      " 7   Humidity           182338 non-null  float64\n",
      " 8   Wind_Speed         182338 non-null  float64\n",
      " 9   Pressure           182338 non-null  float64\n",
      " 10  Visibility         182338 non-null  float64\n",
      " 11  Hour               182338 non-null  int64  \n",
      "dtypes: float64(6), int64(6)\n",
      "memory usage: 16.7 MB\n"
     ]
    }
   ],
   "source": [
    "numvars = numvars.reset_index()\n",
    "numvars.info()"
   ]
  },
  {
   "cell_type": "code",
   "execution_count": 184,
   "id": "brief-chick",
   "metadata": {},
   "outputs": [
    {
     "name": "stdout",
     "output_type": "stream",
     "text": [
      "<class 'pandas.core.frame.DataFrame'>\n",
      "RangeIndex: 182338 entries, 0 to 182337\n",
      "Data columns (total 33 columns):\n",
      " #   Column                                      Non-Null Count   Dtype  \n",
      "---  ------                                      --------------   -----  \n",
      " 0   Origin_EWR                                  182338 non-null  float64\n",
      " 1   Origin_JFK                                  182338 non-null  float64\n",
      " 2   Origin_LGA                                  182338 non-null  float64\n",
      " 3   Engine_Type_Turbo-fan                       182338 non-null  float64\n",
      " 4   Engine_Type_Turbo-jet                       182338 non-null  float64\n",
      " 5   Manufacturer_AIRBUS INDUSTRIE               182338 non-null  float64\n",
      " 6   Manufacturer_BOEING                         182338 non-null  float64\n",
      " 7   Manufacturer_BOMBARDIER INC                 182338 non-null  float64\n",
      " 8   Manufacturer_CANADAIR                       182338 non-null  float64\n",
      " 9   Manufacturer_EMBRAER                        182338 non-null  float64\n",
      " 10  Manufacturer_MCDONNELL DOUGLAS CORPORATION  182338 non-null  float64\n",
      " 11  Airline_AirTran Airways Corporation         182338 non-null  float64\n",
      " 12  Airline_American Airlines Inc.              182338 non-null  float64\n",
      " 13  Airline_Delta Air Lines Inc.                182338 non-null  float64\n",
      " 14  Airline_Endeavor Air Inc.                   182338 non-null  float64\n",
      " 15  Airline_ExpressJet Airlines Inc.            182338 non-null  float64\n",
      " 16  Airline_JetBlue Airways                     182338 non-null  float64\n",
      " 17  Airline_Southwest Airlines Co.              182338 non-null  float64\n",
      " 18  Airline_US Airways Inc.                     182338 non-null  float64\n",
      " 19  Airline_United Air Lines Inc.               182338 non-null  float64\n",
      " 20  Airline_Virgin America                      182338 non-null  float64\n",
      " 21  level_0                                     182338 non-null  int64  \n",
      " 22  index                                       182338 non-null  int64  \n",
      " 23  Departure_Delay                             182338 non-null  float64\n",
      " 24  Delay_Level                                 182338 non-null  int64  \n",
      " 25  Number_of_Engines                           182338 non-null  int64  \n",
      " 26  Seats                                       182338 non-null  int64  \n",
      " 27  Temperature                                 182338 non-null  float64\n",
      " 28  Humidity                                    182338 non-null  float64\n",
      " 29  Wind_Speed                                  182338 non-null  float64\n",
      " 30  Pressure                                    182338 non-null  float64\n",
      " 31  Visibility                                  182338 non-null  float64\n",
      " 32  Hour                                        182338 non-null  int64  \n",
      "dtypes: float64(27), int64(6)\n",
      "memory usage: 45.9 MB\n"
     ]
    }
   ],
   "source": [
    "finaldf = pd.concat([catvars_enc, numvars], axis = 1).reindex(index=numvars.index)\n",
    "finaldf.info()"
   ]
  },
  {
   "cell_type": "code",
   "execution_count": 185,
   "id": "cheap-threat",
   "metadata": {},
   "outputs": [],
   "source": [
    "finaldf.drop(['index', 'level_0'], axis=1, inplace=True)"
   ]
  },
  {
   "cell_type": "code",
   "execution_count": 186,
   "id": "confused-organic",
   "metadata": {},
   "outputs": [],
   "source": [
    "import xgboost as xgb\n",
    "from sklearn.model_selection import train_test_split\n",
    "from sklearn.metrics import confusion_matrix"
   ]
  },
  {
   "cell_type": "code",
   "execution_count": 187,
   "id": "young-object",
   "metadata": {},
   "outputs": [],
   "source": [
    "y = pd.DataFrame(finaldf[\"Delay_Level\"])\n",
    "X = pd.DataFrame(finaldf.drop([\"Delay_Level\",\"Departure_Delay\"], axis = 1))\n",
    "\n",
    "X_train, X_test, y_train, y_test = train_test_split(X, y, test_size = 0.25,random_state = 1000)"
   ]
  },
  {
   "cell_type": "code",
   "execution_count": 188,
   "id": "sublime-maine",
   "metadata": {},
   "outputs": [],
   "source": [
    "train = xgb.DMatrix(X_train, label = y_train)\n",
    "test = xgb.DMatrix(X_test, label = y_test)"
   ]
  },
  {
   "cell_type": "code",
   "execution_count": 189,
   "id": "upset-somalia",
   "metadata": {},
   "outputs": [],
   "source": [
    "param = {\"max_depth\": 15,\n",
    "\"eta\": 0.15,\n",
    "\"objective\":\"multi:softmax\",\n",
    "\"num_class\": 2,\n",
    "\"min_child_weight\":0}\n",
    "iterations = 100"
   ]
  },
  {
   "cell_type": "code",
   "execution_count": 190,
   "id": "regulated-gamma",
   "metadata": {},
   "outputs": [
    {
     "name": "stdout",
     "output_type": "stream",
     "text": [
      "[18:47:11] WARNING: ../src/learner.cc:1061: Starting in XGBoost 1.3.0, the default evaluation metric used with the objective 'multi:softmax' was changed from 'merror' to 'mlogloss'. Explicitly set eval_metric if you'd like to restore the old behavior.\n"
     ]
    }
   ],
   "source": [
    "model = xgb.train(param, train, iterations)"
   ]
  },
  {
   "cell_type": "code",
   "execution_count": 191,
   "id": "statutory-supplier",
   "metadata": {},
   "outputs": [
    {
     "data": {
      "text/plain": [
       "array([1., 0., 0., ..., 1., 0., 0.], dtype=float32)"
      ]
     },
     "execution_count": 191,
     "metadata": {},
     "output_type": "execute_result"
    }
   ],
   "source": [
    "pred = model.predict(test)\n",
    "pred"
   ]
  },
  {
   "cell_type": "code",
   "execution_count": 192,
   "id": "lesser-lawrence",
   "metadata": {},
   "outputs": [
    {
     "data": {
      "text/plain": [
       "0.6542722386750027"
      ]
     },
     "execution_count": 192,
     "metadata": {},
     "output_type": "execute_result"
    }
   ],
   "source": [
    "accuracy_score(y_test,pred)"
   ]
  },
  {
   "cell_type": "code",
   "execution_count": 193,
   "id": "floating-booth",
   "metadata": {},
   "outputs": [
    {
     "name": "stdout",
     "output_type": "stream",
     "text": [
      "Test Dataset accuracy\n",
      "0.6542722386750027\n",
      "\n",
      "\n"
     ]
    },
    {
     "data": {
      "text/plain": [
       "<AxesSubplot:>"
      ]
     },
     "execution_count": 193,
     "metadata": {},
     "output_type": "execute_result"
    },
    {
     "data": {
      "image/png": "[encoded data removed]",
      "text/plain": [
       "<Figure size 432x288 with 2 Axes>"
      ]
     },
     "metadata": {},
     "output_type": "display_data"
    }
   ],
   "source": [
    "print(\"Test Dataset accuracy\")\n",
    "print(accuracy_score(y_test, pred))\n",
    "print('\\n')\n",
    "sb.heatmap(confusion_matrix(y_test, pred), annot = True, fmt=\".0f\", annot_kws={\"size\": 18},cmap =\"PuBu\")"
   ]
  },
  {
   "cell_type": "code",
   "execution_count": 194,
   "id": "colored-closing",
   "metadata": {},
   "outputs": [
    {
     "data": {
      "text/plain": [
       "<AxesSubplot:title={'center':'Feature importance'}, xlabel='F score', ylabel='Features'>"
      ]
     },
     "execution_count": 194,
     "metadata": {},
     "output_type": "execute_result"
    },
    {
     "data": {
      "image/png": "[encoded data removed]",
      "text/plain": [
       "<Figure size 432x288 with 1 Axes>"
      ]
     },
     "metadata": {},
     "output_type": "display_data"
    }
   ],
   "source": [
    "xgb.plot_importance(model)"
   ]
  },
  {
   "cell_type": "markdown",
   "id": "third-sigma",
   "metadata": {},
   "source": [
    "We see that our accuracy has improve to about 65%.\n",
    "\n",
    "We next adjusted the model again to predict the probabilities"
   ]
  },
  {
   "cell_type": "code",
   "execution_count": 195,
   "id": "veterinary-showcase",
   "metadata": {},
   "outputs": [
    {
     "name": "stderr",
     "output_type": "stream",
     "text": [
      "/home/NIHALARY001/CZ1016/base/lib/python3.8/site-packages/xgboost/sklearn.py:888: UserWarning: The use of label encoder in XGBClassifier is deprecated and will be removed in a future release. To remove this warning, do the following: 1) Pass option use_label_encoder=False when constructing XGBClassifier object; and 2) Encode your labels (y) as integers starting with 0, i.e. 0, 1, 2, ..., [num_class - 1].\n",
      "  warnings.warn(label_encoder_deprecation_msg, UserWarning)\n"
     ]
    },
    {
     "name": "stdout",
     "output_type": "stream",
     "text": [
      "[18:47:42] WARNING: ../src/learner.cc:1061: Starting in XGBoost 1.3.0, the default evaluation metric used with the objective 'binary:logistic' was changed from 'error' to 'logloss'. Explicitly set eval_metric if you'd like to restore the old behavior.\n"
     ]
    },
    {
     "data": {
      "text/html": [
       "<style>#sk-container-id-8 {color: black;background-color: white;}#sk-container-id-8 pre{padding: 0;}#sk-container-id-8 div.sk-toggleable {background-color: white;}#sk-container-id-8 label.sk-toggleable__label {cursor: pointer;display: block;width: 100%;margin-bottom: 0;padding: 0.3em;box-sizing: border-box;text-align: center;}#sk-container-id-8 label.sk-toggleable__label-arrow:before {content: \"▸\";float: left;margin-right: 0.25em;color: #696969;}#sk-container-id-8 label.sk-toggleable__label-arrow:hover:before {color: black;}#sk-container-id-8 div.sk-estimator:hover label.sk-toggleable__label-arrow:before {color: black;}#sk-container-id-8 div.sk-toggleable__content {max-height: 0;max-width: 0;overflow: hidden;text-align: left;background-color: #f0f8ff;}#sk-container-id-8 div.sk-toggleable__content pre {margin: 0.2em;color: black;border-radius: 0.25em;background-color: #f0f8ff;}#sk-container-id-8 input.sk-toggleable__control:checked~div.sk-toggleable__content {max-height: 200px;max-width: 100%;overflow: auto;}#sk-container-id-8 input.sk-toggleable__control:checked~label.sk-toggleable__label-arrow:before {content: \"▾\";}#sk-container-id-8 div.sk-estimator input.sk-toggleable__control:checked~label.sk-toggleable__label {background-color: #d4ebff;}#sk-container-id-8 div.sk-label input.sk-toggleable__control:checked~label.sk-toggleable__label {background-color: #d4ebff;}#sk-container-id-8 input.sk-hidden--visually {border: 0;clip: rect(1px 1px 1px 1px);clip: rect(1px, 1px, 1px, 1px);height: 1px;margin: -1px;overflow: hidden;padding: 0;position: absolute;width: 1px;}#sk-container-id-8 div.sk-estimator {font-family: monospace;background-color: #f0f8ff;border: 1px dotted black;border-radius: 0.25em;box-sizing: border-box;margin-bottom: 0.5em;}#sk-container-id-8 div.sk-estimator:hover {background-color: #d4ebff;}#sk-container-id-8 div.sk-parallel-item::after {content: \"\";width: 100%;border-bottom: 1px solid gray;flex-grow: 1;}#sk-container-id-8 div.sk-label:hover label.sk-toggleable__label {background-color: #d4ebff;}#sk-container-id-8 div.sk-serial::before {content: \"\";position: absolute;border-left: 1px solid gray;box-sizing: border-box;top: 0;bottom: 0;left: 50%;z-index: 0;}#sk-container-id-8 div.sk-serial {display: flex;flex-direction: column;align-items: center;background-color: white;padding-right: 0.2em;padding-left: 0.2em;position: relative;}#sk-container-id-8 div.sk-item {position: relative;z-index: 1;}#sk-container-id-8 div.sk-parallel {display: flex;align-items: stretch;justify-content: center;background-color: white;position: relative;}#sk-container-id-8 div.sk-item::before, #sk-container-id-8 div.sk-parallel-item::before {content: \"\";position: absolute;border-left: 1px solid gray;box-sizing: border-box;top: 0;bottom: 0;left: 50%;z-index: -1;}#sk-container-id-8 div.sk-parallel-item {display: flex;flex-direction: column;z-index: 1;position: relative;background-color: white;}#sk-container-id-8 div.sk-parallel-item:first-child::after {align-self: flex-end;width: 50%;}#sk-container-id-8 div.sk-parallel-item:last-child::after {align-self: flex-start;width: 50%;}#sk-container-id-8 div.sk-parallel-item:only-child::after {width: 0;}#sk-container-id-8 div.sk-dashed-wrapped {border: 1px dashed gray;margin: 0 0.4em 0.5em 0.4em;box-sizing: border-box;padding-bottom: 0.4em;background-color: white;}#sk-container-id-8 div.sk-label label {font-family: monospace;font-weight: bold;display: inline-block;line-height: 1.2em;}#sk-container-id-8 div.sk-label-container {text-align: center;}#sk-container-id-8 div.sk-container {/* jupyter's `normalize.less` sets `[hidden] { display: none; }` but bootstrap.min.css set `[hidden] { display: none !important; }` so we also need the `!important` here to be able to override the default hidden behavior on the sphinx rendered scikit-learn.org. See: https://github.com/scikit-learn/scikit-learn/issues/21755 */display: inline-block !important;position: relative;}#sk-container-id-8 div.sk-text-repr-fallback {display: none;}</style><div id=\"sk-container-id-8\" class=\"sk-top-container\"><div class=\"sk-text-repr-fallback\"><pre>XGBClassifier(base_score=0.5, booster=&#x27;gbtree&#x27;, colsample_bylevel=1,\n",
       "              colsample_bynode=1, colsample_bytree=1, gamma=0, gpu_id=-1,\n",
       "              importance_type=&#x27;gain&#x27;, interaction_constraints=&#x27;&#x27;,\n",
       "              learning_rate=0.300000012, max_delta_step=0, max_depth=6,\n",
       "              min_child_weight=1, missing=nan, monotone_constraints=&#x27;()&#x27;,\n",
       "              n_estimators=100, n_jobs=16, num_parallel_tree=1, random_state=0,\n",
       "              reg_alpha=0, reg_lambda=1, scale_pos_weight=1, subsample=1,\n",
       "              tree_method=&#x27;exact&#x27;, validate_parameters=1, verbosity=None)</pre><b>In a Jupyter environment, please rerun this cell to show the HTML representation or trust the notebook. <br />On GitHub, the HTML representation is unable to render, please try loading this page with nbviewer.org.</b></div><div class=\"sk-container\" hidden><div class=\"sk-item\"><div class=\"sk-estimator sk-toggleable\"><input class=\"sk-toggleable__control sk-hidden--visually\" id=\"sk-estimator-id-10\" type=\"checkbox\" checked><label for=\"sk-estimator-id-10\" class=\"sk-toggleable__label sk-toggleable__label-arrow\">XGBClassifier</label><div class=\"sk-toggleable__content\"><pre>XGBClassifier(base_score=0.5, booster=&#x27;gbtree&#x27;, colsample_bylevel=1,\n",
       "              colsample_bynode=1, colsample_bytree=1, gamma=0, gpu_id=-1,\n",
       "              importance_type=&#x27;gain&#x27;, interaction_constraints=&#x27;&#x27;,\n",
       "              learning_rate=0.300000012, max_delta_step=0, max_depth=6,\n",
       "              min_child_weight=1, missing=nan, monotone_constraints=&#x27;()&#x27;,\n",
       "              n_estimators=100, n_jobs=16, num_parallel_tree=1, random_state=0,\n",
       "              reg_alpha=0, reg_lambda=1, scale_pos_weight=1, subsample=1,\n",
       "              tree_method=&#x27;exact&#x27;, validate_parameters=1, verbosity=None)</pre></div></div></div></div></div>"
      ],
      "text/plain": [
       "XGBClassifier(base_score=0.5, booster='gbtree', colsample_bylevel=1,\n",
       "              colsample_bynode=1, colsample_bytree=1, gamma=0, gpu_id=-1,\n",
       "              importance_type='gain', interaction_constraints='',\n",
       "              learning_rate=0.300000012, max_delta_step=0, max_depth=6,\n",
       "              min_child_weight=1, missing=nan, monotone_constraints='()',\n",
       "              n_estimators=100, n_jobs=16, num_parallel_tree=1, random_state=0,\n",
       "              reg_alpha=0, reg_lambda=1, scale_pos_weight=1, subsample=1,\n",
       "              tree_method='exact', validate_parameters=1, verbosity=None)"
      ]
     },
     "execution_count": 195,
     "metadata": {},
     "output_type": "execute_result"
    }
   ],
   "source": [
    "model2 = xgb.XGBClassifier()\n",
    "model2.fit(X_train,y_train.Delay_Level.ravel())"
   ]
  },
  {
   "cell_type": "code",
   "execution_count": 196,
   "id": "latest-bachelor",
   "metadata": {},
   "outputs": [
    {
     "name": "stdout",
     "output_type": "stream",
     "text": [
      "Test Dataset accuracy\n",
      "0.6623450696501042\n"
     ]
    },
    {
     "data": {
      "text/plain": [
       "<AxesSubplot:>"
      ]
     },
     "execution_count": 196,
     "metadata": {},
     "output_type": "execute_result"
    },
    {
     "data": {
      "image/png": "[encoded data removed]",
      "text/plain": [
       "<Figure size 432x288 with 2 Axes>"
      ]
     },
     "metadata": {},
     "output_type": "display_data"
    }
   ],
   "source": [
    "ypred = model2.predict(X_test)\n",
    "print(\"Test Dataset accuracy\")\n",
    "print(accuracy_score(y_test, ypred))\n",
    "sb.heatmap(confusion_matrix(y_test,ypred), \n",
    "        annot = True, fmt=\".0f\", annot_kws={\"size\": 18},cmap =\"PuBu\")"
   ]
  },
  {
   "cell_type": "code",
   "execution_count": 197,
   "id": "recreational-parade",
   "metadata": {},
   "outputs": [
    {
     "data": {
      "text/html": [
       "<div>\n",
       "<style scoped>\n",
       "    .dataframe tbody tr th:only-of-type {\n",
       "        vertical-align: middle;\n",
       "    }\n",
       "\n",
       "    .dataframe tbody tr th {\n",
       "        vertical-align: top;\n",
       "    }\n",
       "\n",
       "    .dataframe thead th {\n",
       "        text-align: right;\n",
       "    }\n",
       "</style>\n",
       "<table border=\"1\" class=\"dataframe\">\n",
       "  <thead>\n",
       "    <tr style=\"text-align: right;\">\n",
       "      <th></th>\n",
       "      <th>0</th>\n",
       "      <th>1</th>\n",
       "    </tr>\n",
       "  </thead>\n",
       "  <tbody>\n",
       "    <tr>\n",
       "      <th>count</th>\n",
       "      <td>45585.000000</td>\n",
       "      <td>45585.000000</td>\n",
       "    </tr>\n",
       "    <tr>\n",
       "      <th>mean</th>\n",
       "      <td>0.500473</td>\n",
       "      <td>0.499527</td>\n",
       "    </tr>\n",
       "    <tr>\n",
       "      <th>std</th>\n",
       "      <td>0.202511</td>\n",
       "      <td>0.202511</td>\n",
       "    </tr>\n",
       "    <tr>\n",
       "      <th>min</th>\n",
       "      <td>0.008302</td>\n",
       "      <td>0.025834</td>\n",
       "    </tr>\n",
       "    <tr>\n",
       "      <th>25%</th>\n",
       "      <td>0.346850</td>\n",
       "      <td>0.341188</td>\n",
       "    </tr>\n",
       "    <tr>\n",
       "      <th>50%</th>\n",
       "      <td>0.501851</td>\n",
       "      <td>0.498149</td>\n",
       "    </tr>\n",
       "    <tr>\n",
       "      <th>75%</th>\n",
       "      <td>0.658812</td>\n",
       "      <td>0.653150</td>\n",
       "    </tr>\n",
       "    <tr>\n",
       "      <th>max</th>\n",
       "      <td>0.974166</td>\n",
       "      <td>0.991698</td>\n",
       "    </tr>\n",
       "  </tbody>\n",
       "</table>\n",
       "</div>"
      ],
      "text/plain": [
       "                  0             1\n",
       "count  45585.000000  45585.000000\n",
       "mean       0.500473      0.499527\n",
       "std        0.202511      0.202511\n",
       "min        0.008302      0.025834\n",
       "25%        0.346850      0.341188\n",
       "50%        0.501851      0.498149\n",
       "75%        0.658812      0.653150\n",
       "max        0.974166      0.991698"
      ]
     },
     "execution_count": 197,
     "metadata": {},
     "output_type": "execute_result"
    }
   ],
   "source": [
    "probs = pd.DataFrame((model2.predict_proba(X_test)))\n",
    "probs.describe()"
   ]
  },
  {
   "cell_type": "markdown",
   "id": "funky-thickness",
   "metadata": {},
   "source": [
    "We see that our model is being built evenly into the 2 classes."
   ]
  },
  {
   "cell_type": "code",
   "execution_count": null,
   "id": "prepared-driving",
   "metadata": {},
   "outputs": [],
   "source": []
  }
 ],
 "metadata": {
  "kernelspec": {
   "display_name": "Python 3",
   "language": "python",
   "name": "python3"
  },
  "language_info": {
   "codemirror_mode": {
    "name": "ipython",
    "version": 3
   },
   "file_extension": ".py",
   "mimetype": "text/x-python",
   "name": "python",
   "nbconvert_exporter": "python",
   "pygments_lexer": "ipython3",
   "version": "3.8.5"
  }
 },
 "nbformat": 4,
 "nbformat_minor": 5
}
